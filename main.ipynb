{
  "nbformat": 4,
  "nbformat_minor": 0,
  "metadata": {
    "colab": {
      "name": "87892_BELAID_Mohamed_Karim.ipynb",
      "provenance": [],
      "collapsed_sections": []
    },
    "kernelspec": {
      "display_name": "Python 3",
      "language": "python",
      "name": "python3"
    },
    "language_info": {
      "codemirror_mode": {
        "name": "ipython",
        "version": 3
      },
      "file_extension": ".py",
      "mimetype": "text/x-python",
      "name": "python",
      "nbconvert_exporter": "python",
      "pygments_lexer": "ipython3",
      "version": "3.6.8"
    },
    "toc": {
      "base_numbering": 1,
      "nav_menu": {},
      "number_sections": true,
      "sideBar": true,
      "skip_h1_title": false,
      "title_cell": "Table of Contents",
      "title_sidebar": "Contents",
      "toc_cell": false,
      "toc_position": {
        "height": "calc(100% - 180px)",
        "left": "10px",
        "top": "150px",
        "width": "165px"
      },
      "toc_section_display": true,
      "toc_window_display": true
    }
  },
  "cells": [
    {
      "cell_type": "markdown",
      "metadata": {
        "id": "O98-HM9sFQc7",
        "colab_type": "text"
      },
      "source": [
        "# Assignment\n",
        "**Fast patent classification from abstract:** \n",
        "I choose to work on a binary classification problem ( is the patent of class A or B ) using only the abstract as input \n",
        "\n",
        " - Dataset:    Wipo-alpha data https://www.wipo.int/classifications/ipc/en/ITsupport/Categorization/dataset/wipo-alpha-readme.html\n",
        " - total size: 5'000 patents\n",
        " \n",
        "\n",
        " - model 1:    I use glove.6B.50d.txt\n",
        " - model 2:    I use W2Vec_Patent_Domain.txt from https://www.kaggle.com/darshmso/w2vec-patent-domain\n",
        " - model 3:    I use pre-trained openai GPT-2 (small 124M)\n",
        " \n",
        "- Hardware:  &nbsp; &nbsp;private GPU, GTX 1060 with CUDA\n",
        "\n",
        "- Keras: &nbsp; &nbsp; &nbsp;  &nbsp; &nbsp; v 2.3.1\n",
        "- Tensorflow:  &nbsp; v 2.1 released on 08/01/2020  *tensorflow pip package now includes GPU support by default (same as tensorflow-gpu)*\n",
        "- submission time: 25.02.2020 at 12:00\n"
      ]
    },
    {
      "cell_type": "code",
      "metadata": {
        "ExecuteTime": {
          "end_time": "2020-02-25T10:35:28.063603Z",
          "start_time": "2020-02-25T10:35:24.853318Z"
        },
        "id": "GkzUwciGFQc_",
        "colab_type": "code",
        "colab": {},
        "outputId": "329d1333-98ed-449a-dcf1-c148e5f1b732"
      },
      "source": [
        "import os\n",
        "import time\n",
        "import numpy as np # linear algebra\n",
        "import pandas as pd # data processing, CSV file I/O (e.g. pd.read_csv)\n",
        "from tqdm import tqdm\n",
        "import math\n",
        "from sklearn.model_selection import train_test_split\n",
        "from sklearn import metrics\n",
        "from xml.etree import cElementTree as ElementTree\n",
        "import xml.etree.ElementTree as ET\n",
        "import pandas as pd\n",
        "import glob\n",
        "import pandas as pd\n",
        "import re, sys, os, csv, keras, pickle\n",
        "import matplotlib.pyplot as plt\n",
        "import sys\n",
        "sys.path.append(\"../../../../\")"
      ],
      "execution_count": null,
      "outputs": [
        {
          "output_type": "stream",
          "text": [
            "Using TensorFlow backend.\n"
          ],
          "name": "stderr"
        }
      ]
    },
    {
      "cell_type": "code",
      "metadata": {
        "ExecuteTime": {
          "end_time": "2020-02-25T10:35:28.074513Z",
          "start_time": "2020-02-25T10:35:28.064540Z"
        },
        "colab_type": "code",
        "id": "mpqkVrF2VoIY",
        "colab": {},
        "outputId": "dc093eb6-8e2e-4765-fa70-8f66ecf98a01"
      },
      "source": [
        "# https://stackoverflow.com/questions/51181754/keras-tensorflow-convlstm2d-object-has-no-attribute-outbound-nodes \n",
        "from tensorflow.python.keras import regularizers, initializers, optimizers, callbacks\n",
        "from tensorflow.python.keras.preprocessing.text import Tokenizer\n",
        "from tensorflow.python.keras.preprocessing.sequence import pad_sequences\n",
        "from tensorflow.python.keras.utils.np_utils import to_categorical\n",
        "from tensorflow.python.keras.layers import Embedding\n",
        "from tensorflow.python.keras.layers import Dense, Input, Flatten, Concatenate\n",
        "from tensorflow.python.keras.layers import Conv1D, MaxPooling1D, Embedding, Dropout, LSTM, GRU, Bidirectional\n",
        "from tensorflow.python.keras.models import Model\n",
        "from tensorflow.python.keras import backend as K\n",
        "from tensorflow.python.keras.preprocessing.text import Tokenizer\n",
        "from tensorflow.python.keras.preprocessing.sequence import pad_sequences\n",
        "from tensorflow.python.keras.layers import Dense, Input, LSTM, Embedding, Dropout, Activation, CuDNNGRU, Conv1D\n",
        "from tensorflow.python.keras.layers import Bidirectional, MaxPooling1D\n",
        "from tensorflow.python.keras.layers import ZeroPadding1D\n",
        "from tensorflow.python.keras.models import Model\n",
        "from tensorflow.python.keras import initializers, regularizers, constraints, optimizers, layers\n",
        "from tensorflow.python.keras.layers import Flatten, Bidirectional,CuDNNGRU\n",
        "from tensorflow.python.keras.optimizers import Adam\n",
        "# from tensorflow.python.keras.engine.topology import Layer, InputSpec\n",
        "print(\"Keras version:\",keras.__version__)"
      ],
      "execution_count": null,
      "outputs": [
        {
          "output_type": "stream",
          "text": [
            "Keras version: 2.3.1\n"
          ],
          "name": "stdout"
        }
      ]
    },
    {
      "cell_type": "code",
      "metadata": {
        "ExecuteTime": {
          "end_time": "2020-02-25T10:35:28.079500Z",
          "start_time": "2020-02-25T10:35:28.076508Z"
        },
        "id": "3KpGtWRnFQde",
        "colab_type": "code",
        "colab": {}
      },
      "source": [
        "np.random.seed(53)"
      ],
      "execution_count": null,
      "outputs": []
    },
    {
      "cell_type": "code",
      "metadata": {
        "ExecuteTime": {
          "end_time": "2020-02-25T10:35:30.167499Z",
          "start_time": "2020-02-25T10:35:28.080499Z"
        },
        "id": "Fc4F7MscFQdn",
        "colab_type": "code",
        "colab": {},
        "outputId": "933a8481-430d-48f6-94d9-fb380dec3d71"
      },
      "source": [
        "from tensorflow.python.client import device_lib\n",
        "print(device_lib.list_local_devices())"
      ],
      "execution_count": null,
      "outputs": [
        {
          "output_type": "stream",
          "text": [
            "[name: \"/device:CPU:0\"\n",
            "device_type: \"CPU\"\n",
            "memory_limit: 268435456\n",
            "locality {\n",
            "}\n",
            "incarnation: 16049772792071505356\n",
            ", name: \"/device:GPU:0\"\n",
            "device_type: \"GPU\"\n",
            "memory_limit: 4930941747\n",
            "locality {\n",
            "  bus_id: 1\n",
            "  links {\n",
            "  }\n",
            "}\n",
            "incarnation: 8426851189057038607\n",
            "physical_device_desc: \"device: 0, name: GeForce GTX 1060 with Max-Q Design, pci bus id: 0000:01:00.0, compute capability: 6.1\"\n",
            "]\n"
          ],
          "name": "stdout"
        }
      ]
    },
    {
      "cell_type": "markdown",
      "metadata": {
        "id": "IvfviyekFQdy",
        "colab_type": "text"
      },
      "source": [
        "# Utilities / UDF\n",
        "\n",
        "user defined functions"
      ]
    },
    {
      "cell_type": "code",
      "metadata": {
        "ExecuteTime": {
          "end_time": "2020-02-25T10:35:30.175901Z",
          "start_time": "2020-02-25T10:35:30.168952Z"
        },
        "id": "45dsK1teFQd0",
        "colab_type": "code",
        "colab": {}
      },
      "source": [
        "# convert-xml-to-pandas-dataframe : \n",
        "# http://www.austintaylor.io/lxml/python/pandas/xml/dataframe/2016/07/08/convert-xml-to-pandas-dataframe/\n",
        "from collections import defaultdict\n",
        "\n",
        "def etree_to_dict(t):\n",
        "    d = {t.tag: {} if t.attrib else None}\n",
        "    children = list(t)\n",
        "    if children:\n",
        "        dd = defaultdict(list)\n",
        "        for dc in map(etree_to_dict, children):\n",
        "            for k, v in dc.items():\n",
        "                dd[k].append(v)\n",
        "        d = {t.tag: {k:v[0] if len(v) == 1 else v for k, v in dd.items()}}\n",
        "    if t.attrib:\n",
        "        d[t.tag].update(('@' + k, v) for k, v in t.attrib.items())\n",
        "    if t.text:\n",
        "        text = t.text.strip()\n",
        "        if children or t.attrib:\n",
        "            if text:\n",
        "              d[t.tag]['#text'] = text\n",
        "        else:\n",
        "            d[t.tag] = text\n",
        "    return d"
      ],
      "execution_count": null,
      "outputs": []
    },
    {
      "cell_type": "code",
      "metadata": {
        "ExecuteTime": {
          "end_time": "2020-02-25T10:35:30.180932Z",
          "start_time": "2020-02-25T10:35:30.176898Z"
        },
        "id": "CJR6W3_BFQd_",
        "colab_type": "code",
        "colab": {}
      },
      "source": [
        "from xml.etree import cElementTree as ET\n",
        "from pprint import pprint as pp\n",
        "    \n",
        "def xml2dict(xml_file):\n",
        "    parser = ET.XMLParser(encoding=\"utf-8\")\n",
        "    # dtd = etree.DTD(dtd_file)\n",
        "    tree = ET.parse(xml_file,parser=parser)\n",
        "    e = tree.getroot()\n",
        "\n",
        "    # pprint(etree_to_dict(e))\n",
        "    return etree_to_dict(e)"
      ],
      "execution_count": null,
      "outputs": []
    },
    {
      "cell_type": "code",
      "metadata": {
        "ExecuteTime": {
          "end_time": "2020-02-25T10:35:30.187870Z",
          "start_time": "2020-02-25T10:35:30.181887Z"
        },
        "id": "TBIPcVudFQeK",
        "colab_type": "code",
        "colab": {}
      },
      "source": [
        "def _load_data(directory, limit = 10):\n",
        "    files = [f for f in glob.glob(directory + \"**/*.xml\", recursive=True)]\n",
        "    df = pd.DataFrame(columns=[\"abstract_raw\"])\n",
        "    total = 0\n",
        "\n",
        "    for file in files:    \n",
        "        try:\n",
        "            dico = xml2dict(file)\n",
        "            abstract = dico['record']['abs']['ab']['#text']\n",
        "            df = df.append({\"abstract_raw\":abstract},ignore_index=True, )\n",
        "            total += 1\n",
        "        except:\n",
        "            pass\n",
        "\n",
        "        if total>=limit:\n",
        "            break;\n",
        "    return df"
      ],
      "execution_count": null,
      "outputs": []
    },
    {
      "cell_type": "code",
      "metadata": {
        "ExecuteTime": {
          "end_time": "2020-02-25T10:35:30.194856Z",
          "start_time": "2020-02-25T10:35:30.190862Z"
        },
        "id": "IzVc_nnCFQea",
        "colab_type": "code",
        "colab": {}
      },
      "source": [
        "def load_data():\n",
        "    df_A = _load_data(root_A, limit = data_size//2)\n",
        "    df_A[\"class\"] = 0.0 # one hot encoded\n",
        "    print(f\"[+] {len(df_A)} report of class A loaded.\")\n",
        "    df_B = _load_data(root_B, limit = data_size//2)\n",
        "    df_B[\"class\"] = 1.0\n",
        "    print(f\"[+] {len(df_B)} report of class B loaded.\")\n",
        "    \n",
        "    return pd.concat([df_A,df_B]).reset_index(drop=True)"
      ],
      "execution_count": null,
      "outputs": []
    },
    {
      "cell_type": "code",
      "metadata": {
        "ExecuteTime": {
          "end_time": "2020-02-25T10:35:30.204867Z",
          "start_time": "2020-02-25T10:35:30.196846Z"
        },
        "id": "S42im9bOFQem",
        "colab_type": "code",
        "colab": {}
      },
      "source": [
        "def y_lim(list_a, list_b):\n",
        "    '''return the max in the last 25% of a serie'''\n",
        "    return max(  max(list_a[int(len(list_b)*0.75):])   ,   max(list_b[int(len(list_b)*0.75):])  )\n",
        "\n",
        "\n",
        "def plot_history(history,target_label=\"\",metrics=[\"acc\"]):\n",
        "    '''Plot the metrics after training'''\n",
        "    hist = pd.DataFrame(history.history)\n",
        "    hist['epoch'] = history.epoch\n",
        "    \n",
        "    #print(\"last epoch:   val_mae\", int(list(hist['val_mae'])[-1]*train_std), 'val_mse',\n",
        "    #      int(list(hist['val_mse'])[-1]*train_std*train_std))\n",
        "    print(\"history.tail:\")\n",
        "    print(hist.tail())\n",
        "    \n",
        "    for metric in metrics:\n",
        "        #try:\n",
        "        fig = plt.figure(figsize=(6.4*2.0, 4))\n",
        "        for i in [1,2]:\n",
        "            ax = fig.add_subplot(1,2,i)\n",
        "            plt.xlabel('Epoch')\n",
        "            plt.ylabel('{} [{}]'.format(metric,target_label))\n",
        "            plt.plot(hist['epoch'], hist[metric], label='Train Error')\n",
        "            plt.plot(hist['epoch'], hist['val_'+metric], label = 'Val Error')\n",
        "            if i==2:\n",
        "                if metric in ['accuracy','acc']:\n",
        "                    plt.ylim([0.5,1.0])\n",
        "                else:    \n",
        "                    plt.ylim([0,y_lim(hist[metric], hist['val_'+metric])* (2.0 if metric=='mae' else 3.0)])\n",
        "            else:\n",
        "                if metric in ['accuracy','acc']:\n",
        "                    plt.ylim([0.0,1.0])\n",
        "                \n",
        "            plt.legend()\n",
        "        plt.grid()\n",
        "        plt.show()\n",
        "        #except:\n",
        "        #    plt.clf()    "
      ],
      "execution_count": null,
      "outputs": []
    },
    {
      "cell_type": "code",
      "metadata": {
        "ExecuteTime": {
          "end_time": "2020-02-25T10:35:30.213835Z",
          "start_time": "2020-02-25T10:35:30.207853Z"
        },
        "id": "iJC2ljQiFQeu",
        "colab_type": "code",
        "colab": {}
      },
      "source": [
        "# embeddings_index[word] = embedding of the word\n",
        "def load_embedding_index_from_file(file):\n",
        "    embeddings_index = {}\n",
        "    f = open(file, mode=\"r\", encoding=\"utf-8\")\n",
        "    print(\"Loading embedding_index from:\",file,\"...\",end=\"\")\n",
        "    for line in f:\n",
        "        values = line.split()\n",
        "        if len(values)<10:\n",
        "            # print(\"[!] skipped line\")\n",
        "            continue\n",
        "        word = values[0]\n",
        "        embeddings_index[word] = np.asarray(values[1:], dtype='float32')\n",
        "    f.close()\n",
        "    return embeddings_index"
      ],
      "execution_count": null,
      "outputs": []
    },
    {
      "cell_type": "code",
      "metadata": {
        "ExecuteTime": {
          "end_time": "2020-02-25T10:35:30.221815Z",
          "start_time": "2020-02-25T10:35:30.216832Z"
        },
        "id": "SGmqcxRPFQe4",
        "colab_type": "code",
        "colab": {}
      },
      "source": [
        "def get_embedding_matrix_from_embeddings_index(embeddings_index, nb_unique_words, EMBEDDING_DIM ):\n",
        "    print(\"[+] Proceeding with Embedding Matrix...\")\n",
        "    embedding_matrix = np.random.random((nb_unique_words, EMBEDDING_DIM))\n",
        "    for word, i in word_index.items():\n",
        "        embedding_vector = embeddings_index.get(word)\n",
        "        if embedding_vector is not None: ########################################### todo drop the non excisting words\n",
        "            # words not found in embedding index will be all-zeros.\n",
        "            embedding_matrix[i] = embedding_vector\n",
        "        #else:\n",
        "        #    print(word, end=\", \") # this word do not have a embeded representation in the loaded model\n",
        "    print(\"[i] Completed!\")\n",
        "    return embedding_matrix"
      ],
      "execution_count": null,
      "outputs": []
    },
    {
      "cell_type": "markdown",
      "metadata": {
        "id": "X7ep8QWsFQfD",
        "colab_type": "text"
      },
      "source": [
        "# Configuration"
      ]
    },
    {
      "cell_type": "code",
      "metadata": {
        "ExecuteTime": {
          "end_time": "2020-02-25T10:35:30.228795Z",
          "start_time": "2020-02-25T10:35:30.223809Z"
        },
        "id": "3_IG_TBPFQfF",
        "colab_type": "code",
        "colab": {}
      },
      "source": [
        "xml_file_example = \"C:\\\\Users\\\\Karim\\\\Google Drive\\\\AAA\\\\Deep learning\\\\4-projet\\\\patent-classification-train\\\\alphatrain-A\\\\A\\\\01\\\\B\\\\001\\\\AU0100080_09082001.xml\"\n",
        "root = \"C:\\\\Users\\\\Karim\\\\Google Drive\\\\AAA\\\\Deep learning\\\\4-projet\\\\patent-classification-train\\\\\"\n",
        "\n",
        "root_A = root + \"alphatrain-A\\\\\"\n",
        "root_B = root + \"alphatrain-B\\\\\"\n",
        "dtd_file = ''\n",
        "\n",
        "data_size = 5000 # total on train val and test\n",
        "\n",
        "MAX_NB_WORDS= 40000       # max number of unique words\n",
        "MAX_SEQUENCE_LENGTH = 200 # max nb of words per abstract\n",
        "\n",
        "EMBEDDING_DIM = 50\n",
        "GloVe_file = f\"glove.6B.{EMBEDDING_DIM}d.txt\"    # downloaded from # http://nlp.stanford.edu/data/glove.6B.zip"
      ],
      "execution_count": null,
      "outputs": []
    },
    {
      "cell_type": "markdown",
      "metadata": {
        "id": "up9oY4IoFQfQ",
        "colab_type": "text"
      },
      "source": [
        "- We split the data like this:\n",
        "    - 50% train\n",
        "    - 20% validation\n",
        "    - 30% test"
      ]
    },
    {
      "cell_type": "markdown",
      "metadata": {
        "id": "UCQtO4H9FQfT",
        "colab_type": "text"
      },
      "source": [
        "# Datasets: Load & Vizualize"
      ]
    },
    {
      "cell_type": "markdown",
      "metadata": {
        "id": "wp4RxMqfFQfU",
        "colab_type": "text"
      },
      "source": [
        "Let's first load only one patent as a dictionary"
      ]
    },
    {
      "cell_type": "code",
      "metadata": {
        "ExecuteTime": {
          "end_time": "2020-02-25T10:35:30.238259Z",
          "start_time": "2020-02-25T10:35:30.229792Z"
        },
        "colab_type": "code",
        "id": "-3_ipJURFQfW",
        "colab": {},
        "outputId": "4d5be166-6121-43ef-97b3-fd199d8816c5"
      },
      "source": [
        "dico = xml2dict(xml_file_example)\n",
        "dico"
      ],
      "execution_count": null,
      "outputs": [
        {
          "output_type": "execute_result",
          "data": {
            "text/plain": [
              "{'record': {'prs': {'pr': {'@prn': 'AU20000203 PQ 5409'}},\n",
              "  'ipcs': {'ipc': [{'@ic': 'A01C00502'},\n",
              "    {'@ic': 'E02D00104'},\n",
              "    {'@ic': 'E21B02500'},\n",
              "    {'@ic': 'E21B04902'}],\n",
              "   '@ed': '7',\n",
              "   '@mc': 'A01B00100'},\n",
              "  'pas': {'pa': 'MORRISON, Michael, Joseph'},\n",
              "  'tis': {'ti': {'@{http://www.w3.org/XML/1998/namespace}lang': 'EN',\n",
              "    '#text': 'SOIL MANIPULATING TOOL'}},\n",
              "  'abs': {'ab': {'@{http://www.w3.org/XML/1998/namespace}lang': 'EN',\n",
              "    '#text': 'A soil manipulating tool is disclosed which has a handle (12) and a soil penetrating portion\\n(14). The soil penetrating portion (14) is formed from a helical or spiral rod\\nor wire (13) which defines a cavity (18). The rod or wire (13) may be hollow so that\\nfertilizer or other liquid material can pass through the hollow rod wire (13)\\ninto the soil in which the tool is to be used. The tool may also include an abutment member\\nfor limiting the amount of penetration of the tool into the soil to facilitate churning\\nup of the soil and a blade may also be provided across one of the spirals of the portion\\n(14) to provide a chopping of soil so that a hole can be formed by removal of a plug\\nof soil but at the same time leaving loosened soil at the bottom of the hole. The\\ntool has particular application in aerating and manipulating composted material\\nand the removal of composted material from a compost bin as well as garden applications\\nfor the formation of holes, and the aeration of soil facilitating plant growth.'}},\n",
              "  'cls': {'cl': {'@{http://www.w3.org/XML/1998/namespace}lang': 'EN',\n",
              "    '#text': 'THE CLAIMS DEFINING THE INVENTION ARE AS FOLLOWS:\\n1. A soil manipulating tool for manipulating soil,\\nincluding;\\na soil penetrating portion comprising a helical\\nor spiral member ; and\\nthe helical or spiral member defining a\\nsubstantially cylindrical cavity in which a plug of soil\\ncan locate, the cavity extending substantially the entire\\nlength of the soil penetrating portion.2. The tool of claim 1 wherein the spiral or helical\\nmember is formed from rod or wire.3. The tool of claim 2 wherein the cross-sectional\\nshape of the rod or wire is diamond shaped, circular\\nshaped, or rectangular shaped.4. The tool of claim 1 wherein the tool includes a\\nhandle coupled to the soil penetrating portion.5. The tool of claim 1 wherein the amplitude of the\\nspiral or helical member is substantially constant along\\nthe entire length of the soil penetrating portion.6. The tool of claim 4 wherein the handle portion is\\nformed integral with the soil penetrating portion and\\nformed by bending one end of the soil penetrating portion\\ninto a handle shape.7. The tool of claim 4 wherein the handle portion is\\na separate component in the form of a rod or beam which is\\nconnected to the soil penetrating portion.8. The tool of claim 1 including an abutment portion\\ndisposed between the handle and the soil penetrating\\nportion for abutting against a surface of the soil into\\nwhich the tool is to be driven so that when the abutment\\nmember abuts the surface of the soil the tool can be\\nrotated without further penetrating into the soil so as to\\nfacilitate churning up of the soil upon rotation of the\\ntool.9. The tool of claim 1 wherein a blade member\\nextends across one spiral of the helical or spiral member.10. The tool of claim 1 wherein the helical or spiral\\nmember is hollow so that liquid can be applied to the tool\\nand flow through the hollow member, the member having an\\noutlet opening arranged at an end of the member opposite\\nthe handle portion so that the liquid can flow out of the\\ntool.11. The tool of claim 8 including a liquid pump which\\ncan be attached to the hollow tube to facilitate pumping\\nof the fluid through the hollow member.12. The tool of claim 1 wherein the tool has a\\nreinforced tip at its end remote from the handle to\\nfacilitate penetration of the tip of the tool into the\\nsoil.13. The tool of claim 1 wherein the tool includes\\nmeans for increasing the size of a bore created by the\\nsoil penetrating portion when the soil penetrating portion\\nis wound through the soil.14. The tool according to claim 13 wherein the a tip\\nmember is located on the helical or spiral member and the\\nmeans comprises a ledge on the tip member which has a\\nmaximum dimension which is greater than the maximum\\ndimension of the helical or spiral member.15. The tool according to claim 13 wherein the means\\ncomprises a corrugated or wavelike section of the helical\\nor spiral member.16. The tool according to claim 13 wherein them means s\\ncomprises providing the helical or spiral member with a\\npitch or wavelength at a portion of the helical or spiral\\nmember which is greater than the remainder of the pitch or\\nwavelength of the helical or spiral member so as to create\\na spring effect at the portion of greater pitch or\\nwavelength so that springing or oscillating movement\\ncreates an oversizing of the bore.17. A soil manipulation tool having a spiral shaped\\nmember forming a soil penetrating portion and defining an\\narea in which a plug of soil may locate when said portion\\npenetrates a soil mass, wherein rotation of the spiral\\nshaped member assists it to penetrate said soil mass.18. The tool according to claim 17 wherein said tool\\nis suitable for removing said plug of soil from said soil\\nmass by withdrawing the tool from said soil mass after\\nhaving penetrated said soil mass, said plug of soil being\\nsupported within the spiral shaped member.19. The tool according to claims 17 to 18 wherein\\nsaid soil is compost.20. The tool of any one of claims 17 to 19 wherein\\nthe tool includes a handle coupled to the soil penetrating\\nportion.21. The tool of any one of claims 17 to 20 wherein\\nthe amplitude of the spiral shaped member is substantially\\nconstant the entire length of the soil penetrating\\nportion.22. The tool of any one of claims 17 to 21 including\\nan abutment portion disposed between the handle and the\\nsoil penetrating portion for abutting against the surface\\nof the soil into which the tool is to be driven so that\\nwhen the abutment portion abuts the surface of the soil\\nthe tool can be rotated without further penetrating into\\nthe soil so as to facilitate churning up of the soil upon\\nrotation of the tool.23. The tool of any one of claims 17 to 22 further\\nincluding a blade member located across a portion of the\\nspiral shaped member.'}},\n",
              "  'txts': {'txt': {'@{http://www.w3.org/XML/1998/namespace}lang': 'EN',\n",
              "    '#text': 'SOIL MANIPULATING TOOL\\nField of the Invention\\nThis invention relates to a soil manipulating tool. As\\nused in this specification and the accompanying claims theterm 5soil\"includes other generally friable substances of\\na similar nature including compost.The tool according to the present invention has a\\nparticular application, but not exclusive application in\\ndomestic gardening and removal of compost from a compost\\nbin.Prior Art\\nAs is common, during the course of gardening it is often\\nnecessary to plant small plants or seedlings and to do so\\na relatively small hole needs to be dug. Conventional\\ntools for digging such holes includes small spades and\\nhoes\\nDuring domestic composting of material it is common to\\ncompost material in a compost container which has an open\\nbottom so that the composted material is simply left lying\\non the ground. In this situation the compost is generally\\neasy to move from one place to another with a spade\\nbecause the compost container can be removed from the\\ncomposted material thereby leaving the composted material\\nsitting on the ground.In more recent times, compost containers which do not have\\nan open bottom have been proposed. In these compost\\ncontainers various mechanisms are installed in order to\\nprovide better composting of material. However, the\\nremoval of the composted material from these containers is\\nsomewhat more difficult. It is possible that the\\ncomposted material can be tipped out of the container\\nalthough, depending on the nature of the container, this\\nmay not be easy to do. Also, because of the height of\\nthis type of composting container, it is not easy to\\nremove the composted material with a shovel or other\\nconventional tool.Summary of the Invention\\nThe present invention provides a soil manipulating tool\\nfor manipulating soil, including;\\na soil penetrating portion comprising a helical\\nor spiral member ; and\\nthe helical or spiral member defining a\\nsubstantially cylindrical cavity in which a plug of soil\\ncan locate, the cavity extending substantially the entire\\nlength of the soil penetrating portion.According to this invention when the tool is rotated to\\ndrive the tool into the soil in generally screw fashion, a\\nplug of the soil is accommodated in the cavity so that the\\nplug of soil can be manipulated by the tool. The\\nmanipulation may comprise removal of the plug of soil from\\nthe body into which the tool is driven by simply\\nwithdrawing the tool from the body, or loosening or\\naerating the soil by rotating the tool in the soil so as\\nto churn the soil which is located in the cavity.In the preferred embodiment the tool includes a handle\\ncoupled to the soil penetrating portion. However, in\\nother embodiments the tool could be configured for\\ncoupling to a power tool for driving the tool or to a\\npower take off to a motor driven machine or vehicle.In the preferred embodiment of the invention the helical\\nor spiral member is formed from rod or wire. The crosssectional shape of the rod or wire may be diamond shaped,\\ncircular shaped, or rectangular shaped.In one embodiment of the invention the handle portion is\\nformed integral with the soil penetrating portion and\\nformed by bending one end of the soil penetrating portion\\ninto a handle shape.In other embodiments the handle portion may be a separate\\ncomponent in the form of a rod or beam which is connected\\nto the soil penetrating portion.The tool may include an abutment portion disposed between\\nthe handle and the soil penetrating portion for abutting\\nagainst a surface of the soil into which the tool is to be\\ndriven so that when the abutment member abuts the surface\\nof the soil the tool can be rotated without further\\npenetrating into the soil so as to facilitate churning up\\nof the soil upon rotation of the tool. This embodiment of\\nthe invention has particular application for use with\\nsoils which are relatively hard or dense such as the\\nground. In situations where the soil is relatively loose\\nsuch as the case with composting, churning of the soil can\\ntake place by simply rotating the tool and, by manual\\nforce preventing the tool from further winding into the\\nsoil so that a churning action is achieved rather than\\nfurther penetration of the tool. If the soil is\\nrelatively hard continued rotation will simply tend to\\ndraw the tool into the soil in cork screw like fashion\\nwithout any particular churning of the soil. However,\\nsince the abutment member will abut the surface of the\\nsoil this will prevent further penetration of the tool\\ninto the soil and continued rotation will therefore cause\\na churning up of the soil rather than further penetration.In another advantageous embodiment of the invention the\\ntool may include a blade member which extends across the\\ncavity at one spiral of the helical or spiral soil\\npenetrating portion. In this embodiment of the invention\\nthe blade has the effect of loosening soil within the\\ncavity upon rotation of the tool whilst enabling a plug of\\nsoil above the blade to be removed upon extraction of the\\ntool from the soil. This leaves a hole with a mass of\\nloosened soil at the bottom of the hole which is therefore\\nable to be used for the planting of seedlings or small\\nplants.In one embodiment of the invention the helical or spiral\\nmember may be hollow so that liquid can be applied to the\\ntool and flow through the hollow member, the tool having\\nan outlet opening arranged at an end of the hollow member\\nopposite the handle portion so that the liquid can flow\\nout of the hollow member.This embodiment of the invention may also include a liquid\\npump which can be attached to the hollow tube to\\nfacilitate pumping of the fluid through the tool. This\\nembodiment is advantageous in applying a liquid fertilizer\\nor water to the soil as the soil is manipulated by the\\ntool.In one embodiment of the invention the tool may have a\\nreinforced tip at its end remote from the handle to\\nfacilitate penetration of the tip of the tool into the\\nsoil.The hole which allows exit of the fluid is preferably\\nlocated in the rod or wire soil penetrating portion\\nadjacent the reinforced tip.In other embodiments the tool includes means for\\nincreasing the size of a bore created by the soil\\npenetrating portion when the soil penetrating portion is\\nwound through the soil.A tip member is located on the helical or spiral member\\nand the means may comprise a ledge on the tip member which\\nhas a maximum dimension which is greater than the maximum\\ndimension of the helical or spiral member.The means may also comprise a corrugated or wavelike\\nsection of the helical or spiral member.The means may still further comprise providing the helical\\nor spiral member with a pitch or wavelength at a portion\\nof the helical or spiral member which is greater than the\\nremainder of the pitch or wavelength of the helical or\\nspiral member so as to create a spring effect at the\\nportion of greater pitch or wavelength so that springing\\nor oscillating movement creates an oversizing of the bore.In another aspect the present invention is directed to a\\nsoil manipulation tool having a spiral shaped member\\nforming a soil penetrating portion and defining an area in\\nwhich a plug of soil may locate when said portion\\npenetrates a soil mass, wherein rotation of the spiral\\nshaped member assists it to penetrate said soil mass.In a preferred embodiment the tool is suitable for\\nremoving the plug of soil from the soil mass by\\nwithdrawing the tool from the soil mass after having\\npenetrated the soil mass, the plug of soil being supported\\nwithin the spiral shaped member.Description of the Preferred Embodiments\\nPreferred embodiments of the invention will be described,\\nby way of example, with reference to the accompanying\\ndrawings in which;\\nFigure 1 is a side view of a tool embodying the\\ninvention ;\\nFigure 2 is a perspective view of the tool of\\nFigure 1;\\nFigure 3, Figure 4 and Figure 5 show various\\ndifferent cross-sections along the line A-A of Figure 1;\\nFigure 6 is a view of a further embodiment of the\\ninvention ;\\nFigure 7 is a view of a still further embodiment\\nof the invention;\\nFigure 8 is a view showing use of the embodiment\\nof Figure 7;\\nFigure 9 is a still further embodiment of the\\ninvention ;\\nFigure 10 is a view of a modification to the\\nembodiment of Figure 9; and\\nFigure 11 is a modified form of the embodiment of\\nFigure 9;\\nFigure 12 shows a further embodiment ;\\nFigures 13,14,15,16,17, and 18 show various\\ndifferent configurations of the tool according to still\\nfurther embodiments of the invention.With reference to Figures 1 and 2 a soil manipulating tool\\n10 is shown which has a handle 12 and a soil penetrating\\nportion 14. The soil penetrating portion 14 is formed\\nfrom a spiral or helical wire or rod 13. In the\\nembodiment according to Figure 1 the handle 12 is integral\\nwith the soil penetrating portion 14 and is formed by\\nsimply bending the wire or rod from which the soil\\npenetrating portion 14 is formed into an appropriate\\nconfiguration to act as a handle.The helical or spiral rod or wire 13 which forms the soil\\npenetrating portion 14 has a spiral of generally constant\\namplitude (i. e. in the direction of arrow C in Figure 1)\\nfrom the end of the portion 14 adjacent the handle 12 to\\ntip 16 of the tool. The soil penetrating portion 14\\ndefines a cylindrical cavity 18 identified by the dotted\\nlines in Figure 1.In order to use the tool the tool is applied against the\\nsoil with the tip end 16 touching the soil and then is\\nscrew threaded into the soil so that the tool 10 winds\\ninto the soil. Because of the helical or spiral nature of\\nthe portion 14 the tool can be generally easily wound into\\nthe soil to manipulate the soil which may comprise either\\na churning up of the soil so as to aerate it or loosen it,\\nor removal of a plug of the soil by simply extracting the\\ntool in linear fashion in a direction opposite to that\\nwhich the tool was wound into the soil. If it is desired\\nto leave the plug of soil in the body of the soil and not\\nremove it the tool can be removed by rotating the tool in\\nthe opposite direction to that which was used to screw the\\ntool into the soil.As is shown in Figures 3 to 5, the rod or wire member 13\\nwhich forms the spiral or helical portion 14 may have\\nvarious different cross-sectional shapes. In Figure 3 the\\ncross-sectional shape is of diamond shape. This shape is\\nparticularly advantageous for use in generally hard soils\\nbecause the apexes 20 of the diamond shape form cutting\\nedges which facilitate cutting and penetration of the tool\\ninto the soil.Figure 4 shows a cross-section of circular configuration\\nand Figure 5 shows a rectangular shape.Figure 6 shows a further embodiment of the invention in\\nwhich an abutment member 24 in the form of inverted ushaped rod is located on the tool 10. The member 24 has a\\ncentral hole 26 and the member 24 is located on the tool\\n10 by passing the portion 14 through the hole 26 and\\nsliding the member 24 up to the position shown in Figure\\n6. The handle 12 may include a stop 27 which can be in\\nthe form of a button, dimple or the like formed on the\\nhandle 12 so as to prevent movement of the abutment member\\n24 past the position shown in Figure 6. This embodiment\\nof the invention has particular application when it is\\ndesired to churn over soil rather than remove a plug, in\\nsoil which is relatively hard. When the tool 10 is\\nscrewed into the soil continued rotation of the tool 10,\\nbecause of the relatively hard nature of the soil, is\\nmerely likely to continue drawing the tool into the soil\\nin cork screw like fashion. However, by using the\\nabutment member 24, when the abutment member 24 abuts\\nsurface 29 of the soil continued penetration of the tool\\n10 into the soil is prevented. Thus, continued rotation\\nof the tool 10 rotates the spiral or helical portion 14\\nwithout further penetration therefore causing the soil at\\nthe periphery of the cylindrical cavity 18 to be churned\\nup or broken up by movement of the wire or rod 13 through\\nthe soil upon rotation of the tool. The churning up of\\nthe soil therefore facilitates aeration of the soil or\\ngeneral loosening of hard and compacted soil.In embodiments where the soil is relatively friable or\\nsoft such as the case with compost, an abutment member 24\\nmay not be required because the tool can be conveniently\\nheld at a particular position after penetrating the\\ncompost and rotated without further penetration thereby\\naerating the compost if required.The tool described with reference to Figures 1 to 6 also\\nhas application in removing plugs of composting material\\nfrom a compost container. In compost containers which\\nhave a bottom and which can be difficult to empty, the\\ncomposted material can be removed from the container by\\nsimply screwing the tool described in Figures 1 to 6 into\\nthe composted material so that a plug of the composted\\nmaterial forms in the cavity 18 and then extracting the\\ntool in linear fashion in a direction opposite to that of\\npenetration. This will cause a plug of the composted\\nmaterial which is located in the cavity 18 to be withdrawn\\nfrom the composted mass. The plug can therefore be\\nemptied into a bucket or container for transport to a\\nlocation where it is used or, if the bin is at the\\nlocation where the compost is to be used, the compost\\nmaterial can be simply shaken from the tool and dropped on\\nthe ground.Figure 7 shows a still further embodiment of the invention\\nin which like reference numerals indicate like parts to\\nthose described with reference to Figures 1 to 6.In this embodiment of the invention a blade 30 is located\\nat one of the spirals of the spiral wire or rod 13 which\\nforms the soil penetrating portion 14. As clearly shown\\nin Figure 7 the blade 30 extends across the cavity 18\\ndefined by the spiral or helical portion 14. The blade 30\\ncan be located across any one of the spirals which form\\nthe portion 14 but most preferably is located across one\\nof the spirals at about the mid point of the portion 14\\nbetween the tip 16 and the handle 12.This embodiment of the invention has particular\\napplication in digging holes into which small plants or\\nseedlings are to be planted.According to this embodiment of the invention the tool 10\\nis wound into the soil in the same manner as previously\\ndescribed. When the tool 10 has been wound into the soil\\nto a sufficient depth to provide a hole of the required\\nsize the tool is rotated in that position. If the soil is\\nparticularly hard the abutment member 24 described with\\nreference to Figure 6 can be utilised in this embodiment\\nof the invention. In view of the location of the blade 30\\nacross the spiral which forms the portion 14, if an\\nabutment member is required, the abutment member 24 can be\\nlocated permanently in place between the handle 12 and the\\ntool 14 at manufacture. Continued rotation of the tool\\n10, when it is in the soil will cause the soil in the\\nvicinity of the blade 30 across the entire diameter of the\\ncylindrical cavity 18, to be loosened by cutting action of\\nthe blade 30 as the blade rotates at that one position.As shown in Figure 8 when the tool 10 is removed from the\\nsurface 29 of the soil by withdrawing it in the direction\\nof arrow B in Figure 8, a hole 30 is left in the soil.The hole 30 is provided with loosened soil 31 at the\\nbottom of the hole which has been loosened and chopped by\\nthe blade 30 when the tool 10 was rotated in the hole 30.The soil above the blade 30 is removed as a plug upon\\nextraction of the tool in the direction of arrow B and is\\nidentified by reference numeral S in Figure 8 within the\\ntool 10. Thus, a hole 30 is formed which has loosened\\nsoil at the bottom which is ideal for location of a plant\\nto facilitate establishment of the root system of the\\nplant in the loosened soil. Thus, according to this\\nembodiment of the invention the hole 30 can be easily\\nformed and provided with loosened soil generally in the\\none action of screwing the tool 10 into the soil and then\\nextracting the tool 10 to remove the plug S and leave the\\nhole 30 and the loosened soil 31.According to the embodiment of Figure 8 the plug of soil\\ncan be moved by extracting the tool 10 in linear fashion\\nas previously described. However, also according to this\\nembodiment of the invention the plug above the blade 30\\ncan be removed by rotating the tool 10 in the opposite\\ndirection to that which was used to drive the tool 10 into\\nthe soil. Because of the location of the blade 30 across\\nthe cavity 18, the blade will act to. hold the soil above\\nthe blade within the cavity as the tool is unwound rather\\nthan simply leaving the soil within the cavity 18 in situ\\nupon rewinding of the tool. Thus, this embodiment also\\nprovides the alternative of being able to withdraw the\\nplug of soil S by unwinding the tool from the soil should\\nthat be necessary or desirable.Figure 9 shows a still further embodiment of the invention\\nin which the rod or wire 13 is hollow and provided with an\\ninlet opening 40 at end 12a of the handle 12 and an outlet\\nopening 41 adjacent tip 16. According to this embodiment\\nof the invention liquid material such as fertilizer or\\nwater can be applied to the inlet 40 and flow through the\\nhollow wire or rod 13 and exit the hole 41 so as to supply\\nfertilizer to the soil during the course of manipulating\\nthe soil either to loosen it or aerate it, or during the\\ncourse of removal of a plug to form a hole as in the\\nembodiment of Figure 8. This embodiment has particular\\nadvantage in locating water or fertilizer beneath the root\\nstructure of a plant in the ground by screwing the tool 10\\nover the plant so that the tip will be generally below the\\nlevel of the root structure and then applying the\\nfertilizer through the hollow wire or rod 13 so that the\\nfertilizer (or for that matter water) is located beneath\\nthe root structure to motivate the root structure to\\npenetrate further into the soil to seek water or\\nfertilizer. In the embodiment of Figure 9 the tool 10 may\\nalso be provided with a reinforced tip 16 which is formed\\nfrom soil material. The outlet opening 41 is provided in\\nthe hollow portion of the wire or rid 13 adjacent the\\nreinforced tip 16.Figure 10 shows a modification to the embodiment of Figure\\n9 in which a pump 50 is applied to the inlet 40 so as to\\nfacilitate the forcing of the liquid material through the\\nhollow rod or wire 13 and out of the outlet opening 41.The pump 40 may simply be a resilient rubber or plastic\\nbulb or the like which is squeezed so as to apply pressure\\nto the hollow tube 13 so as to force the material in the\\nhollow tube 13 through the tube and out of the outlet\\nopening 41.Figure 11 shows a modification to the tip 16 used in\\nFigure 9. The tip configuration shown in Figure 11 may be\\nused with a tool which has a hollow rod or wire 13 or\\nwhich is made with a soil rod or wire 13. In this\\nembodiment the tip 16 is formed on a relatively long tip\\nmember 17 which may have a length of up to 30 cm. The tip\\nmember 17 is connected to the rod or wire 13 by welding or\\nany suitable method and diverges outwardly to end 17a of\\nthe tip member 17. The end 17a of the tip member 17 is\\nprovided with a shoulder or ledge 80 which projects\\noutwardly from the member 13 so as to have a maximum\\ndimension in a direction radial with respect to the rod or\\nwire member 13 which is greater than the maximum dimension\\nof the rod or wire member 13.The tip member 17 has particular application in soils\\nwhich are relatively hard and provides a strong tip 16\\nwhich is pointed so as to enable easier penetration into\\nthe ground. Because the ledge 80 is wider than the\\ngreatest dimension of the rod or wire 13, the bore B\\n(shown in dotted lines in Figure 6) created as the tip\\nmember 17 penetrates the ground, will be slightly greater\\nthan the size of the wire or rod 13 thereby reducing drag\\non the wire or rod 13 and thereby making it easier to\\npenetrate the entire tool into the soil.Although in the embodiment shown the tip member 17 is of a\\nlength in the order of 30 cm it is also possible to\\nconfigure the tip member 17 to be much shorter of, for\\nexample, 30 mm. If it is desired to maintain the bore B,\\nwhich is drilled when the tool 10 is screw threaded into\\nthe ground, as small as possible, the ledge 80 is omitted\\nso the tip member 17 has a maximum dimension which is\\nequal to the wire or rod 13 and has a smooth transition\\ninto the rod or wire 13.In a still further embodiment, as show in Figure 11, part\\nof the rod or wire member 13 may be provided with a\\ncorrugated or wave like configuration represented by\\nreference numeral 90 shown in Figure 11. According to\\nthis embodiment, when the tool is screw threaded into the\\nsoil the corrugated or wave section 90 will force an\\noversizing of the bore B which is formed as the tool\\nscrews threads into the soil. In this embodiment the\\nsection 90 provides a larger dimension as shown by arrow M\\nin Figure 11 and will create a larger bore. Once again,\\nthe part of the rod or wire 13 which is located behind the\\nsection 90 will therefore travel through a larger bore\\nthereby decreasing the amount of drag and making it easier\\nfor the tool to penetrate the soil. The section 90 should\\nbe provided as close to the tip 16 as is possible so that\\nthe maximum amount of reduction in drag can be provided.In a still further embodiment, shown in Figure 12, the\\noversizing can be performed by providing a pitch or\\nwavelength of the spirals of a different magnitude. In\\nthe embodiment shown in Figure 1 the pitch or wavelength\\n(shown by arrow L) of the spirals of the rod or wire 13 is\\nconstant along the length of the soil penetrating portion\\n14. If the pitch or wavelength is increased (as shown by\\ndistance L2 in Figure 12) at one of the spirals adjacent\\nthe tip 16 a springing or oscillating movement of the soil\\npenetrating 14 can be produced as the tool is forced into\\nthe soil. This will have the tendency to make the bore\\ncreated by passage of the wire or rod 13 through the soil,\\nsomewhat larger because of the slight back and forward\\nmovement of the wire on rod 13 as it penetrates the\\nground. This will also have the tendency to reduce drag\\nbecause of the increased size of the bore B as the tool\\npenetrates the ground.Figures 13 to 19 show various other arrangements of the\\ninvention.In Figure 13 the handle 12 is formed from a straight rod\\nor beam of wood or metal material and the portion 14 has a\\nstraight extension section 55 having an eye 56 at its free\\nend into which the handle 12 is inserted. The handle 12\\ncan be secured in place by any suitable manner so that it\\nis permanently connected to the eye 56.Figure 14 shows an embodiment in which the abutment member\\n24 is in the form of a disc.Figure 15 shows an abutment member 24 which is in the form\\nof a generally straight rod having an opening 58\\nfacilitating location of the member 24 on the tool 10.Figure 16 shows an embodiment in which the handle 14 is\\ngenerally in the form a straight beam or rod formed\\nintegral with the portion 14.Figure 17 shows an embodiment which is similar to Figure\\n12 expect that the handle 12 is intended to be removable\\nfrom the eye 56.Figure 18 shows an embodiment in which the abutment disc\\n24 is provided with a slot 60 so as to facilitate location\\nof the disc 24 onto the tool 10.Figure 19 is simply shows an embodiment in which the\\nhelical portion 14 is wound in the opposite direction to\\nthat in the previous embodiments.The preferred embodiments of the invention therefore show\\ntools which have great application in the manipulation of\\nsoil including the removal of compost from a compost bin,\\nthe aeration of compost and soil, and the formation of\\nholes having loosened soil at the bottom for planting\\nplants. The tool can also be used in environments close\\nto small plants or indeed, located over small plants in\\norder to aerate or loosen soil around the root structure\\nof the plants. Because of the helical or spiral nature of\\nthe soil penetrating portion 14 the penetration of the\\nportion 14 into the soil is not likely to cut or sever the\\nroof structure but simply wind around the root structure\\nand loosen the soil about the root structure while at the\\nsame time supplying some aeration to the root structure.Thus, the tool can be used without fear of damaging the\\nplant.In the preferred embodiment of the invention the tool is\\npreferably of length about 40 cm to 60 cm and the rod wire\\nmember 13 has a largest dimension in cross-section of\\nbetween 3 mm and 8 mm. The amplitude of the helical\\nspiral is approximately 20 mm to 80 mm.'}},\n",
              "  '@cy': 'WO',\n",
              "  '@an': 'AU0100080',\n",
              "  '@pn': 'WO015635920010809',\n",
              "  '@dnum': '0156359',\n",
              "  '@kind': 'A1'}}"
            ]
          },
          "metadata": {
            "tags": []
          },
          "execution_count": 13
        }
      ]
    },
    {
      "cell_type": "markdown",
      "metadata": {
        "colab_type": "text",
        "id": "vzzfka3HVxjg"
      },
      "source": [
        "**features:**\n",
        "- **I choose to work with Abstract only as input**\n",
        "- we will only extract abstract under 'abs'->'ab'->'#text'"
      ]
    },
    {
      "cell_type": "code",
      "metadata": {
        "ExecuteTime": {
          "end_time": "2020-02-25T10:35:41.500686Z",
          "start_time": "2020-02-25T10:35:30.239254Z"
        },
        "id": "vF7AYYAwFQfj",
        "colab_type": "code",
        "colab": {},
        "outputId": "85ec7efc-d78c-4c50-ea6d-c2ecc265c252"
      },
      "source": [
        "df = load_data()\n",
        "\n",
        "print(\"df.shape=\",df.shape)\n",
        "df"
      ],
      "execution_count": null,
      "outputs": [
        {
          "output_type": "stream",
          "text": [
            "[+] 2500 report of class A loaded.\n",
            "[+] 2500 report of class B loaded.\n",
            "df.shape= (5000, 2)\n"
          ],
          "name": "stdout"
        },
        {
          "output_type": "execute_result",
          "data": {
            "text/html": [
              "<div>\n",
              "<style scoped>\n",
              "    .dataframe tbody tr th:only-of-type {\n",
              "        vertical-align: middle;\n",
              "    }\n",
              "\n",
              "    .dataframe tbody tr th {\n",
              "        vertical-align: top;\n",
              "    }\n",
              "\n",
              "    .dataframe thead th {\n",
              "        text-align: right;\n",
              "    }\n",
              "</style>\n",
              "<table border=\"1\" class=\"dataframe\">\n",
              "  <thead>\n",
              "    <tr style=\"text-align: right;\">\n",
              "      <th></th>\n",
              "      <th>abstract_raw</th>\n",
              "      <th>class</th>\n",
              "    </tr>\n",
              "  </thead>\n",
              "  <tbody>\n",
              "    <tr>\n",
              "      <th>0</th>\n",
              "      <td>A soil manipulating tool is disclosed which ha...</td>\n",
              "      <td>0.0</td>\n",
              "    </tr>\n",
              "    <tr>\n",
              "      <th>1</th>\n",
              "      <td>A movable device to facilitate removal of plan...</td>\n",
              "      <td>0.0</td>\n",
              "    </tr>\n",
              "    <tr>\n",
              "      <th>2</th>\n",
              "      <td>An impact cushioning device (10) comprising: a...</td>\n",
              "      <td>0.0</td>\n",
              "    </tr>\n",
              "    <tr>\n",
              "      <th>3</th>\n",
              "      <td>A device for uprooting a plant comprises a lev...</td>\n",
              "      <td>0.0</td>\n",
              "    </tr>\n",
              "    <tr>\n",
              "      <th>4</th>\n",
              "      <td>Garden tool, formed by a shaft with at one out...</td>\n",
              "      <td>0.0</td>\n",
              "    </tr>\n",
              "    <tr>\n",
              "      <th>...</th>\n",
              "      <td>...</td>\n",
              "      <td>...</td>\n",
              "    </tr>\n",
              "    <tr>\n",
              "      <th>4995</th>\n",
              "      <td>A refill jig for an ink cartridge having a pri...</td>\n",
              "      <td>1.0</td>\n",
              "    </tr>\n",
              "    <tr>\n",
              "      <th>4996</th>\n",
              "      <td>Inkjet printhead with array of parallel channe...</td>\n",
              "      <td>1.0</td>\n",
              "    </tr>\n",
              "    <tr>\n",
              "      <th>4997</th>\n",
              "      <td>A flexure (1) of the type comprising a pair of...</td>\n",
              "      <td>1.0</td>\n",
              "    </tr>\n",
              "    <tr>\n",
              "      <th>4998</th>\n",
              "      <td>A multi nozzle CIJ printhead has a number of i...</td>\n",
              "      <td>1.0</td>\n",
              "    </tr>\n",
              "    <tr>\n",
              "      <th>4999</th>\n",
              "      <td>Disclosed is a method of printing using a mult...</td>\n",
              "      <td>1.0</td>\n",
              "    </tr>\n",
              "  </tbody>\n",
              "</table>\n",
              "<p>5000 rows × 2 columns</p>\n",
              "</div>"
            ],
            "text/plain": [
              "                                           abstract_raw  class\n",
              "0     A soil manipulating tool is disclosed which ha...    0.0\n",
              "1     A movable device to facilitate removal of plan...    0.0\n",
              "2     An impact cushioning device (10) comprising: a...    0.0\n",
              "3     A device for uprooting a plant comprises a lev...    0.0\n",
              "4     Garden tool, formed by a shaft with at one out...    0.0\n",
              "...                                                 ...    ...\n",
              "4995  A refill jig for an ink cartridge having a pri...    1.0\n",
              "4996  Inkjet printhead with array of parallel channe...    1.0\n",
              "4997  A flexure (1) of the type comprising a pair of...    1.0\n",
              "4998  A multi nozzle CIJ printhead has a number of i...    1.0\n",
              "4999  Disclosed is a method of printing using a mult...    1.0\n",
              "\n",
              "[5000 rows x 2 columns]"
            ]
          },
          "metadata": {
            "tags": []
          },
          "execution_count": 14
        }
      ]
    },
    {
      "cell_type": "markdown",
      "metadata": {
        "id": "ySpsCPBBFQfs",
        "colab_type": "text"
      },
      "source": [
        "## text to integers\n",
        "source code inspired from: https://github.com/glmack/patent_predict_nlp/blob/784471276f4ed70b584e18806e2af1d99f39d578/patent_predict.ipynb"
      ]
    },
    {
      "cell_type": "code",
      "metadata": {
        "ExecuteTime": {
          "end_time": "2020-02-25T10:35:41.853458Z",
          "start_time": "2020-02-25T10:35:41.502650Z"
        },
        "id": "QanykvEfFQfu",
        "colab_type": "code",
        "colab": {}
      },
      "source": [
        "tokenizer = Tokenizer(num_words=MAX_NB_WORDS)\n",
        "texts = df[\"abstract_raw\"]\n",
        "tokenizer.fit_on_texts(texts)"
      ],
      "execution_count": null,
      "outputs": []
    },
    {
      "cell_type": "markdown",
      "metadata": {
        "id": "qsG5khNuFQf3",
        "colab_type": "text"
      },
      "source": [
        "Convert txt to sequences of word tokens with zero padding at the front and back"
      ]
    },
    {
      "cell_type": "code",
      "metadata": {
        "ExecuteTime": {
          "end_time": "2020-02-25T10:35:42.238955Z",
          "start_time": "2020-02-25T10:35:41.854311Z"
        },
        "id": "ockYXjPkFQf5",
        "colab_type": "code",
        "colab": {},
        "outputId": "843776b8-9971-41fd-c6f0-e58f7582dea1"
      },
      "source": [
        "sequences = tokenizer.texts_to_sequences(texts)\n",
        "word_index = tokenizer.word_index\n",
        "print('[i] Found %s unique tokens.' % len(word_index))\n",
        "data_int = pad_sequences(sequences, padding='pre', maxlen=(MAX_SEQUENCE_LENGTH-5))\n",
        "data = pad_sequences(data_int, padding='post', maxlen=(MAX_SEQUENCE_LENGTH))"
      ],
      "execution_count": null,
      "outputs": [
        {
          "output_type": "stream",
          "text": [
            "[i] Found 16325 unique tokens.\n"
          ],
          "name": "stdout"
        }
      ]
    },
    {
      "cell_type": "code",
      "metadata": {
        "ExecuteTime": {
          "end_time": "2020-02-25T10:35:42.243797Z",
          "start_time": "2020-02-25T10:35:42.239809Z"
        },
        "id": "Ym8LtWl7FQgF",
        "colab_type": "code",
        "colab": {}
      },
      "source": [
        "nb_unique_words = len(word_index) + 1"
      ],
      "execution_count": null,
      "outputs": []
    },
    {
      "cell_type": "code",
      "metadata": {
        "ExecuteTime": {
          "end_time": "2020-02-25T10:35:42.249781Z",
          "start_time": "2020-02-25T10:35:42.244796Z"
        },
        "id": "e-JZit4HFQgN",
        "colab_type": "code",
        "colab": {},
        "outputId": "b7c96dab-4def-48c4-94e7-df1ac32acc81"
      },
      "source": [
        "data.shape"
      ],
      "execution_count": null,
      "outputs": [
        {
          "output_type": "execute_result",
          "data": {
            "text/plain": [
              "(5000, 200)"
            ]
          },
          "metadata": {
            "tags": []
          },
          "execution_count": 18
        }
      ]
    },
    {
      "cell_type": "code",
      "metadata": {
        "ExecuteTime": {
          "end_time": "2020-02-25T10:35:42.255792Z",
          "start_time": "2020-02-25T10:35:42.250780Z"
        },
        "id": "yTE6HH0QFQgX",
        "colab_type": "code",
        "colab": {},
        "outputId": "6449c86f-1dda-423b-deba-3ada9257fad2"
      },
      "source": [
        "data[0] # example of a abstract text transformed to a sequence of int with left/right padding"
      ],
      "execution_count": null,
      "outputs": [
        {
          "output_type": "execute_result",
          "data": {
            "text/plain": [
              "array([    0,     0,     0,     0,     0,     0,     0,     2,   586,\n",
              "        3148,    87,     6,   153,    11,    36,     2,   180,    25,\n",
              "           4,     2,   586,  3020,    34,    42,     1,   586,  3020,\n",
              "          34,    42,     6,    79,    13,     2,  1759,    12,  1536,\n",
              "         384,    12,   415,   119,    11,   727,     2,   183,    64,\n",
              "           1,   384,    12,   415,   119,    55,    16,   340,    66,\n",
              "          17,  4022,    12,    70,    82,    30,    48,   709,    49,\n",
              "           1,   340,   384,   415,   119,    35,     1,   586,     7,\n",
              "          11,     1,    87,     6,     5,    16,   116,     1,    87,\n",
              "          55,    74,   266,     9,  1316,    32,     8,  2412,     1,\n",
              "         493,     3,  2344,     3,     1,    87,    35,     1,   586,\n",
              "           5,   908, 10668,   255,     3,     1,   586,     4,     2,\n",
              "         129,    55,    74,    16,    52,   557,    20,     3,     1,\n",
              "        5697,     3,     1,    34,    42,     5,   189,     2,  6325,\n",
              "           3,   586,    66,    17,     2,   337,    48,    16,    79,\n",
              "          14,   458,     3,     2,  1249,     3,   586,   504,    15,\n",
              "           1,   306,   307,  2345,  5219,   586,    15,     1,   152,\n",
              "           3,     1,   337,     1,    87,    36,   511,   447,     7,\n",
              "       10669,     4,  3148,  7160,    30,     4,     1,   458,     3,\n",
              "        7160,    30,    13,     2,  5220,  2902,    23,   494,    23,\n",
              "        4494,  1449,     8,     1,   841,     3,   394,     4,     1,\n",
              "        2637,     3,   586,  1813,   697,  1609,     0,     0,     0,\n",
              "           0,     0])"
            ]
          },
          "metadata": {
            "tags": []
          },
          "execution_count": 19
        }
      ]
    },
    {
      "cell_type": "markdown",
      "metadata": {
        "id": "d4B-0KxkFQgf",
        "colab_type": "text"
      },
      "source": [
        "## Input / Output"
      ]
    },
    {
      "cell_type": "code",
      "metadata": {
        "ExecuteTime": {
          "end_time": "2020-02-25T10:35:42.260753Z",
          "start_time": "2020-02-25T10:35:42.256791Z"
        },
        "id": "gdFtBBIwFQgg",
        "colab_type": "code",
        "colab": {}
      },
      "source": [
        "input_data = data"
      ],
      "execution_count": null,
      "outputs": []
    },
    {
      "cell_type": "code",
      "metadata": {
        "ExecuteTime": {
          "end_time": "2020-02-25T10:35:42.266738Z",
          "start_time": "2020-02-25T10:35:42.261751Z"
        },
        "id": "SBE2u90qFQgp",
        "colab_type": "code",
        "colab": {}
      },
      "source": [
        "output_classes = [ c for c in df[\"class\"]]"
      ],
      "execution_count": null,
      "outputs": []
    },
    {
      "cell_type": "markdown",
      "metadata": {
        "id": "DmJA2p8EFQgw",
        "colab_type": "text"
      },
      "source": [
        "## split train test"
      ]
    },
    {
      "cell_type": "code",
      "metadata": {
        "ExecuteTime": {
          "end_time": "2020-02-25T10:35:42.281727Z",
          "start_time": "2020-02-25T10:35:42.267735Z"
        },
        "id": "5UB19_CnFQgy",
        "colab_type": "code",
        "colab": {}
      },
      "source": [
        "X_train, X_test, y_train, y_test = train_test_split(\n",
        "    input_data, output_classes, test_size=0.33,\n",
        "    stratify=output_classes, shuffle=True,\n",
        "    random_state=53)\n",
        "X_train = np.array(X_train)\n",
        "X_test = np.array(X_test)\n",
        "y_train = np.array(y_train)\n",
        "y_test =  np.array(y_test)"
      ],
      "execution_count": null,
      "outputs": []
    },
    {
      "cell_type": "markdown",
      "metadata": {
        "colab_type": "text",
        "id": "TzAKLznWXONN"
      },
      "source": [
        "# model 1: GloVe\n",
        "Consider Glove word embeddings as a Baseline approach"
      ]
    },
    {
      "cell_type": "markdown",
      "metadata": {
        "id": "DiotcV82FQg8",
        "colab_type": "text"
      },
      "source": [
        "## Preparing the Embedding layer"
      ]
    },
    {
      "cell_type": "code",
      "metadata": {
        "ExecuteTime": {
          "end_time": "2020-02-25T10:35:48.530308Z",
          "start_time": "2020-02-25T10:35:42.284722Z"
        },
        "id": "UR2UvwY6FQg_",
        "colab_type": "code",
        "colab": {},
        "outputId": "a841c9ab-cbfb-4a84-cd52-2f03ed2bd4f8"
      },
      "source": [
        "embeddings_index = load_embedding_index_from_file(GloVe_file)"
      ],
      "execution_count": null,
      "outputs": [
        {
          "output_type": "stream",
          "text": [
            "Loading embedding_index from: glove.6B.50d.txt ..."
          ],
          "name": "stdout"
        }
      ]
    },
    {
      "cell_type": "code",
      "metadata": {
        "ExecuteTime": {
          "end_time": "2020-02-25T10:35:48.562565Z",
          "start_time": "2020-02-25T10:35:48.531148Z"
        },
        "id": "1oKRsi9SFQhJ",
        "colab_type": "code",
        "colab": {},
        "outputId": "cf798cfe-d42a-4134-a5d4-778feed74656"
      },
      "source": [
        "embedding_matrix = get_embedding_matrix_from_embeddings_index(embeddings_index, nb_unique_words, EMBEDDING_DIM )"
      ],
      "execution_count": null,
      "outputs": [
        {
          "output_type": "stream",
          "text": [
            "[+] Proceeding with Embedding Matrix...\n",
            "[i] Completed!\n"
          ],
          "name": "stdout"
        }
      ]
    },
    {
      "cell_type": "code",
      "metadata": {
        "ExecuteTime": {
          "end_time": "2020-02-25T10:35:48.568618Z",
          "start_time": "2020-02-25T10:35:48.563548Z"
        },
        "id": "mY_5BzIWFQhV",
        "colab_type": "code",
        "colab": {},
        "outputId": "eaa3ee29-4bd3-4e88-de9d-f8a5ed013fa3"
      },
      "source": [
        "embedding_matrix.shape # unique_words x EMBEDDING_DIM"
      ],
      "execution_count": null,
      "outputs": [
        {
          "output_type": "execute_result",
          "data": {
            "text/plain": [
              "(16326, 50)"
            ]
          },
          "metadata": {
            "tags": []
          },
          "execution_count": 25
        }
      ]
    },
    {
      "cell_type": "markdown",
      "metadata": {
        "id": "R9r7Sj_7FQhg",
        "colab_type": "text"
      },
      "source": [
        "## layers"
      ]
    },
    {
      "cell_type": "code",
      "metadata": {
        "ExecuteTime": {
          "end_time": "2020-02-25T10:35:49.538367Z",
          "start_time": "2020-02-25T10:35:48.570492Z"
        },
        "id": "873cYaa3FQhi",
        "colab_type": "code",
        "colab": {},
        "outputId": "8ddef21c-6006-477e-a57c-41ae5f5df3e0"
      },
      "source": [
        "inp = Input(shape=(MAX_SEQUENCE_LENGTH,))\n",
        "# Embedding layer gets ints et output a seq of embedding\n",
        "# https://hpi.de/fileadmin/user_upload/fachgebiete/naumann/publications/2019/risch2019domainspecific.pdf\n",
        "x = Embedding(nb_unique_words, EMBEDDING_DIM, weights=[embedding_matrix])(inp)\n",
        "x.trainable = False # freeze the embedding layer because the dataset is too small\n",
        "x = Bidirectional(CuDNNGRU(16, return_sequences=True))(x) # runs on Nvidia CUDA\n",
        "x = MaxPooling1D()(x)\n",
        "x = Flatten()(x)\n",
        "x = Dense(16, activation=\"tanh\")(x)\n",
        "x = Dropout(rate=0.15)(x)\n",
        "x = Dense(1, activation=\"sigmoid\")(x)  # Classification problem => sigmoid\n",
        "model = Model(inputs=inp, outputs=x)\n",
        "model.summary()"
      ],
      "execution_count": null,
      "outputs": [
        {
          "output_type": "stream",
          "text": [
            "Model: \"model\"\n",
            "_________________________________________________________________\n",
            "Layer (type)                 Output Shape              Param #   \n",
            "=================================================================\n",
            "input_1 (InputLayer)         [(None, 200)]             0         \n",
            "_________________________________________________________________\n",
            "embedding (Embedding)        (None, 200, 50)           816300    \n",
            "_________________________________________________________________\n",
            "bidirectional (Bidirectional (None, 200, 32)           6528      \n",
            "_________________________________________________________________\n",
            "max_pooling1d (MaxPooling1D) (None, 100, 32)           0         \n",
            "_________________________________________________________________\n",
            "flatten (Flatten)            (None, 3200)              0         \n",
            "_________________________________________________________________\n",
            "dense (Dense)                (None, 16)                51216     \n",
            "_________________________________________________________________\n",
            "dropout (Dropout)            (None, 16)                0         \n",
            "_________________________________________________________________\n",
            "dense_1 (Dense)              (None, 1)                 17        \n",
            "=================================================================\n",
            "Total params: 874,061\n",
            "Trainable params: 874,061\n",
            "Non-trainable params: 0\n",
            "_________________________________________________________________\n"
          ],
          "name": "stdout"
        }
      ]
    },
    {
      "cell_type": "code",
      "metadata": {
        "ExecuteTime": {
          "end_time": "2020-02-25T10:35:49.572244Z",
          "start_time": "2020-02-25T10:35:49.539334Z"
        },
        "id": "twirlJctFQhr",
        "colab_type": "code",
        "colab": {}
      },
      "source": [
        "model.compile(loss=\"binary_crossentropy\", optimizer=\"rmsprop\", metrics=['accuracy'])"
      ],
      "execution_count": null,
      "outputs": []
    },
    {
      "cell_type": "code",
      "metadata": {
        "ExecuteTime": {
          "end_time": "2020-02-25T10:35:49.576738Z",
          "start_time": "2020-02-25T10:35:49.573747Z"
        },
        "id": "hbzHSbi_FQh5",
        "colab_type": "code",
        "colab": {}
      },
      "source": [
        "# test if the model works\n",
        "# test if the model works\n",
        "# test if the model works\n",
        "# test if the model works\n",
        "# test if the model works\n",
        "# test if the model works\n",
        "# test if the model works\n",
        "# test if the model works correclty\n",
        "#prediction = model.predict([input_data], verbose=1)\n",
        "#prediction[:5]"
      ],
      "execution_count": null,
      "outputs": []
    },
    {
      "cell_type": "markdown",
      "metadata": {
        "id": "Z0-JnNAqFQiF",
        "colab_type": "text"
      },
      "source": [
        "## train"
      ]
    },
    {
      "cell_type": "code",
      "metadata": {
        "ExecuteTime": {
          "end_time": "2020-02-25T10:36:06.108703Z",
          "start_time": "2020-02-25T10:35:49.578734Z"
        },
        "id": "WoVGxFrkFQiG",
        "colab_type": "code",
        "colab": {},
        "outputId": "1de80b40-a1ac-4e58-f9fb-6ad16c9d9b44"
      },
      "source": [
        "model1_history = model.fit([X_train],[y_train],\n",
        "                    verbose=2, # batch_size=1024,\n",
        "                    epochs=5,\n",
        "                    validation_split = 0.2,\n",
        "                    # callbacks=[early_stop, reduce_lr_onPlateau, tensorboard_callback, ManualEarlyStopping()])\n",
        "                   )"
      ],
      "execution_count": null,
      "outputs": [
        {
          "output_type": "stream",
          "text": [
            "Train on 2680 samples, validate on 670 samples\n",
            "Epoch 1/5\n",
            "2680/2680 - 9s - loss: 0.7482 - accuracy: 0.5093 - val_loss: 0.6831 - val_accuracy: 0.5403\n",
            "Epoch 2/5\n",
            "2680/2680 - 2s - loss: 0.6864 - accuracy: 0.5873 - val_loss: 0.6001 - val_accuracy: 0.6896\n",
            "Epoch 3/5\n",
            "2680/2680 - 2s - loss: 0.5362 - accuracy: 0.7313 - val_loss: 0.5068 - val_accuracy: 0.7582\n",
            "Epoch 4/5\n",
            "2680/2680 - 2s - loss: 0.3882 - accuracy: 0.8257 - val_loss: 0.5504 - val_accuracy: 0.7313\n",
            "Epoch 5/5\n",
            "2680/2680 - 2s - loss: 0.2836 - accuracy: 0.8813 - val_loss: 0.5055 - val_accuracy: 0.7746\n"
          ],
          "name": "stdout"
        }
      ]
    },
    {
      "cell_type": "markdown",
      "metadata": {
        "ExecuteTime": {
          "end_time": "2020-02-22T16:53:38.812160Z",
          "start_time": "2020-02-22T16:53:38.809200Z"
        },
        "id": "Vct_YJAoFQiP",
        "colab_type": "text"
      },
      "source": [
        "## Results"
      ]
    },
    {
      "cell_type": "code",
      "metadata": {
        "ExecuteTime": {
          "end_time": "2020-02-25T10:37:17.721549Z",
          "start_time": "2020-02-25T10:37:17.164626Z"
        },
        "id": "JV45opxSFQiQ",
        "colab_type": "code",
        "colab": {},
        "outputId": "798221d3-66fd-4fd8-ec84-2bd82f0e70f0"
      },
      "source": [
        "plot_history(model1_history, \"model1_Glove\",metrics=[\"loss\",\"accuracy\"])"
      ],
      "execution_count": null,
      "outputs": [
        {
          "output_type": "stream",
          "text": [
            "history.tail:\n",
            "       loss  accuracy  val_loss  val_accuracy  epoch\n",
            "0  0.748220  0.509328  0.683087      0.540299      0\n",
            "1  0.686431  0.587313  0.600141      0.689552      1\n",
            "2  0.536244  0.731343  0.506791      0.758209      2\n",
            "3  0.388241  0.825746  0.550412      0.731343      3\n",
            "4  0.283641  0.881343  0.505475      0.774627      4\n"
          ],
          "name": "stdout"
        },
        {
          "output_type": "display_data",
          "data": {
            "image/png": "[encoded data removed]",
            "text/plain": [
              "<Figure size 921.6x288 with 2 Axes>"
            ]
          },
          "metadata": {
            "tags": [],
            "needs_background": "light"
          }
        },
        {
          "output_type": "display_data",
          "data": {
            "image/png": "[encoded data removed]",
            "text/plain": [
              "<Figure size 921.6x288 with 2 Axes>"
            ]
          },
          "metadata": {
            "tags": [],
            "needs_background": "light"
          }
        }
      ]
    },
    {
      "cell_type": "markdown",
      "metadata": {
        "id": "JRNU_5r5FQiX",
        "colab_type": "text"
      },
      "source": [
        "eval on test "
      ]
    },
    {
      "cell_type": "code",
      "metadata": {
        "ExecuteTime": {
          "end_time": "2020-02-25T10:37:41.433719Z",
          "start_time": "2020-02-25T10:37:36.859026Z"
        },
        "id": "zcTTTXYHFQia",
        "colab_type": "code",
        "colab": {},
        "outputId": "4f1b42a0-0741-4cc5-ba8b-75b5e29e09d3"
      },
      "source": [
        "print(\"train scores: \", end=\"\")\n",
        "train_stat = model.evaluate(X_train, y_train, verbose=2);\n",
        "print(\"test scores: \", end=\"\")\n",
        "test_stat = model.evaluate(X_test, y_test, verbose=2);"
      ],
      "execution_count": null,
      "outputs": [
        {
          "output_type": "stream",
          "text": [
            "train scores: 3350/3350 - 3s - loss: 0.2524 - accuracy: 0.9066\n",
            "test scores: 1650/1650 - 2s - loss: 0.5263 - accuracy: 0.7636\n"
          ],
          "name": "stdout"
        }
      ]
    },
    {
      "cell_type": "markdown",
      "metadata": {
        "colab_type": "text",
        "id": "xtMZYsu2Xhwz"
      },
      "source": [
        "# Model 2: domain spe. embed.\n",
        "later try using **domain specific embeddings** which are **built by training models on millions of patent applications**\n",
        "\n",
        "build your keras model to fine-tune the pretrained models on downstream classification task"
      ]
    },
    {
      "cell_type": "markdown",
      "metadata": {
        "id": "CkSseqK2FQik",
        "colab_type": "text"
      },
      "source": [
        "## pretrained domain specific embeddings"
      ]
    },
    {
      "cell_type": "markdown",
      "metadata": {
        "ExecuteTime": {
          "start_time": "2020-02-25T00:11:35.085Z"
        },
        "id": "fJ_v-q3zFQil",
        "colab_type": "text"
      },
      "source": [
        "we will use this w2vec specially made for patent datasets:\n",
        "https://www.kaggle.com/darshmso/w2vec-patent-domain"
      ]
    },
    {
      "cell_type": "code",
      "metadata": {
        "ExecuteTime": {
          "end_time": "2020-02-25T10:37:49.078564Z",
          "start_time": "2020-02-25T10:37:49.075572Z"
        },
        "id": "SPO4vPfYFQin",
        "colab_type": "code",
        "colab": {}
      },
      "source": [
        "EMBEDDING_DIM = 100 # for glove we used 50, now we will work with 100 dim"
      ],
      "execution_count": null,
      "outputs": []
    },
    {
      "cell_type": "code",
      "metadata": {
        "ExecuteTime": {
          "end_time": "2020-02-25T10:39:37.535860Z",
          "start_time": "2020-02-25T10:37:49.526403Z"
        },
        "id": "kGTlGt1aFQiv",
        "colab_type": "code",
        "colab": {},
        "outputId": "2460ceec-ee94-45ef-f1c2-25c283728eaf"
      },
      "source": [
        "embeddings_index = load_embedding_index_from_file(\"W2Vec_Patent_Domain.txt\")"
      ],
      "execution_count": null,
      "outputs": [
        {
          "output_type": "stream",
          "text": [
            "Loading embedding_index from: W2Vec_Patent_Domain.txt ..."
          ],
          "name": "stdout"
        }
      ]
    },
    {
      "cell_type": "code",
      "metadata": {
        "ExecuteTime": {
          "end_time": "2020-02-25T10:39:37.580714Z",
          "start_time": "2020-02-25T10:39:37.536832Z"
        },
        "id": "6i2etN-EFQi4",
        "colab_type": "code",
        "colab": {},
        "outputId": "62917b67-bb02-46a7-f95c-52a149d8ccab"
      },
      "source": [
        "embedding_matrix = get_embedding_matrix_from_embeddings_index(embeddings_index, nb_unique_words, EMBEDDING_DIM )"
      ],
      "execution_count": null,
      "outputs": [
        {
          "output_type": "stream",
          "text": [
            "[+] Proceeding with Embedding Matrix...\n",
            "[i] Completed!\n"
          ],
          "name": "stdout"
        }
      ]
    },
    {
      "cell_type": "markdown",
      "metadata": {
        "id": "IV7zH1R-FQjC",
        "colab_type": "text"
      },
      "source": [
        "## layers"
      ]
    },
    {
      "cell_type": "markdown",
      "metadata": {
        "id": "GiJwHPzfFQjD",
        "colab_type": "text"
      },
      "source": [
        "to have comparable results, we keep the same model"
      ]
    },
    {
      "cell_type": "code",
      "metadata": {
        "ExecuteTime": {
          "end_time": "2020-02-25T10:39:42.029423Z",
          "start_time": "2020-02-25T10:39:41.693809Z"
        },
        "id": "RsuQRqrXFQjF",
        "colab_type": "code",
        "colab": {},
        "outputId": "8000f359-f093-481f-9edc-9fab1091103c"
      },
      "source": [
        "inp = Input(shape=(MAX_SEQUENCE_LENGTH,))\n",
        "# Embedding recoi des int et output une seq de embedding\n",
        "# https://hpi.de/fileadmin/user_upload/fachgebiete/naumann/publications/2019/risch2019domainspecific.pdf\n",
        "x = Embedding(nb_unique_words, EMBEDDING_DIM, weights=[embedding_matrix])(inp)\n",
        "x.trainable = False\n",
        "x = Bidirectional(CuDNNGRU(16, return_sequences=True))(x)\n",
        "x = MaxPooling1D()(x)\n",
        "x = Flatten()(x)\n",
        "x = Dense(16, activation=\"tanh\")(x)\n",
        "x = Dropout(rate=0.15)(x)\n",
        "x = Dense(1, activation=\"sigmoid\")(x)\n",
        "model = Model(inputs=inp, outputs=x)\n",
        "model.summary()"
      ],
      "execution_count": null,
      "outputs": [
        {
          "output_type": "stream",
          "text": [
            "Model: \"model_1\"\n",
            "_________________________________________________________________\n",
            "Layer (type)                 Output Shape              Param #   \n",
            "=================================================================\n",
            "input_2 (InputLayer)         [(None, 200)]             0         \n",
            "_________________________________________________________________\n",
            "embedding_1 (Embedding)      (None, 200, 100)          1632600   \n",
            "_________________________________________________________________\n",
            "bidirectional_1 (Bidirection (None, 200, 32)           11328     \n",
            "_________________________________________________________________\n",
            "max_pooling1d_1 (MaxPooling1 (None, 100, 32)           0         \n",
            "_________________________________________________________________\n",
            "flatten_1 (Flatten)          (None, 3200)              0         \n",
            "_________________________________________________________________\n",
            "dense_2 (Dense)              (None, 16)                51216     \n",
            "_________________________________________________________________\n",
            "dropout_1 (Dropout)          (None, 16)                0         \n",
            "_________________________________________________________________\n",
            "dense_3 (Dense)              (None, 1)                 17        \n",
            "=================================================================\n",
            "Total params: 1,695,161\n",
            "Trainable params: 1,695,161\n",
            "Non-trainable params: 0\n",
            "_________________________________________________________________\n"
          ],
          "name": "stdout"
        }
      ]
    },
    {
      "cell_type": "code",
      "metadata": {
        "ExecuteTime": {
          "end_time": "2020-02-25T10:40:11.504686Z",
          "start_time": "2020-02-25T10:40:11.288417Z"
        },
        "id": "lmAOB9V1FQjN",
        "colab_type": "code",
        "colab": {}
      },
      "source": [
        "model.compile(loss=\"binary_crossentropy\", optimizer=\"rmsprop\", metrics=['accuracy'])"
      ],
      "execution_count": null,
      "outputs": []
    },
    {
      "cell_type": "markdown",
      "metadata": {
        "id": "nyCu4dptFQjV",
        "colab_type": "text"
      },
      "source": [
        "## train"
      ]
    },
    {
      "cell_type": "code",
      "metadata": {
        "ExecuteTime": {
          "end_time": "2020-02-25T10:40:32.495674Z",
          "start_time": "2020-02-25T10:40:15.972483Z"
        },
        "id": "Eouxx-9TFQjX",
        "colab_type": "code",
        "colab": {},
        "outputId": "012d9fa5-59d8-4d6c-e964-c8411d3ef939"
      },
      "source": [
        "history = model.fit([X_train],[y_train],\n",
        "                    verbose=2,\n",
        "                    epochs=5,\n",
        "                    validation_split = 0.2,\n",
        "                    # callbacks=[early_stop, reduce_lr_onPlateau, tensorboard_callback, ManualEarlyStopping()])\n",
        "                   )"
      ],
      "execution_count": null,
      "outputs": [
        {
          "output_type": "stream",
          "text": [
            "Train on 2680 samples, validate on 670 samples\n",
            "Epoch 1/5\n",
            "2680/2680 - 7s - loss: 0.6443 - accuracy: 0.6392 - val_loss: 0.5301 - val_accuracy: 0.7194\n",
            "Epoch 2/5\n",
            "2680/2680 - 2s - loss: 0.3930 - accuracy: 0.8302 - val_loss: 0.4649 - val_accuracy: 0.7776\n",
            "Epoch 3/5\n",
            "2680/2680 - 2s - loss: 0.2534 - accuracy: 0.9026 - val_loss: 0.5530 - val_accuracy: 0.7537\n",
            "Epoch 4/5\n",
            "2680/2680 - 2s - loss: 0.1527 - accuracy: 0.9481 - val_loss: 0.5167 - val_accuracy: 0.7881\n",
            "Epoch 5/5\n",
            "2680/2680 - 2s - loss: 0.0824 - accuracy: 0.9806 - val_loss: 0.5616 - val_accuracy: 0.8015\n"
          ],
          "name": "stdout"
        }
      ]
    },
    {
      "cell_type": "markdown",
      "metadata": {
        "ExecuteTime": {
          "end_time": "2020-02-22T16:53:38.812160Z",
          "start_time": "2020-02-22T16:53:38.809200Z"
        },
        "id": "OzQqqyvnFQjr",
        "colab_type": "text"
      },
      "source": [
        "## Results"
      ]
    },
    {
      "cell_type": "code",
      "metadata": {
        "ExecuteTime": {
          "end_time": "2020-02-25T10:40:33.085430Z",
          "start_time": "2020-02-25T10:40:32.496622Z"
        },
        "id": "_L-OEjHLFQju",
        "colab_type": "code",
        "colab": {},
        "outputId": "7705ee8d-baf7-4659-f7d0-0d295b36fd21"
      },
      "source": [
        "plot_history(history, \"Model3 Domain specific embed.\",metrics=['loss', 'accuracy'])"
      ],
      "execution_count": null,
      "outputs": [
        {
          "output_type": "stream",
          "text": [
            "history.tail:\n",
            "       loss  accuracy  val_loss  val_accuracy  epoch\n",
            "0  0.644345  0.639179  0.530108      0.719403      0\n",
            "1  0.392973  0.830224  0.464851      0.777612      1\n",
            "2  0.253393  0.902612  0.552973      0.753731      2\n",
            "3  0.152707  0.948134  0.516716      0.788060      3\n",
            "4  0.082408  0.980597  0.561575      0.801493      4\n"
          ],
          "name": "stdout"
        },
        {
          "output_type": "display_data",
          "data": {
            "image/png": "[encoded data removed]",
            "text/plain": [
              "<Figure size 921.6x288 with 2 Axes>"
            ]
          },
          "metadata": {
            "tags": [],
            "needs_background": "light"
          }
        },
        {
          "output_type": "display_data",
          "data": {
            "image/png": "[encoded data removed]",
            "text/plain": [
              "<Figure size 921.6x288 with 2 Axes>"
            ]
          },
          "metadata": {
            "tags": [],
            "needs_background": "light"
          }
        }
      ]
    },
    {
      "cell_type": "markdown",
      "metadata": {
        "id": "8oun2aTvFQj1",
        "colab_type": "text"
      },
      "source": [
        "eval on test "
      ]
    },
    {
      "cell_type": "code",
      "metadata": {
        "ExecuteTime": {
          "end_time": "2020-02-25T10:40:37.052355Z",
          "start_time": "2020-02-25T10:40:33.086396Z"
        },
        "id": "h95HnTEWFQj3",
        "colab_type": "code",
        "colab": {},
        "outputId": "8bd066ab-dc96-4b67-8398-a8419eaf54cf"
      },
      "source": [
        "print(\"train scores: \", end=\"\")\n",
        "train_stat = model.evaluate(X_train, y_train, verbose=2);\n",
        "print(\"test scores: \", end=\"\")\n",
        "test_stat = model.evaluate(X_test, y_test, verbose=2);"
      ],
      "execution_count": null,
      "outputs": [
        {
          "output_type": "stream",
          "text": [
            "train scores: 3350/3350 - 2s - loss: 0.1378 - accuracy: 0.9582\n",
            "test scores: 1650/1650 - 2s - loss: 0.5768 - accuracy: 0.7982\n"
          ],
          "name": "stdout"
        }
      ]
    },
    {
      "cell_type": "markdown",
      "metadata": {
        "id": "3ufmIfhKFQkE",
        "colab_type": "text"
      },
      "source": [
        "# Model 3: Pre-trained GPT-2"
      ]
    },
    {
      "cell_type": "markdown",
      "metadata": {
        "ExecuteTime": {
          "end_time": "2020-02-25T00:14:10.734411Z",
          "start_time": "2020-02-25T00:14:10.731451Z"
        },
        "id": "wv2ocb4BFQkF",
        "colab_type": "text"
      },
      "source": [
        "used this code to download gpt-2 124M:\n",
        "https://github.com/openai/gpt-2/blob/master/download_model.py"
      ]
    },
    {
      "cell_type": "markdown",
      "metadata": {
        "id": "7BfUlahfFQkI",
        "colab_type": "text"
      },
      "source": [
        "download pre trained"
      ]
    },
    {
      "cell_type": "code",
      "metadata": {
        "ExecuteTime": {
          "end_time": "2020-02-24T22:24:54.065193Z",
          "start_time": "2020-02-24T22:20:47.323Z"
        },
        "deletable": false,
        "editable": false,
        "run_control": {
          "frozen": true
        },
        "id": "apU42ZCOFQkK",
        "colab_type": "code",
        "colab": {}
      },
      "source": [
        "import os\n",
        "import sys\n",
        "import requests\n",
        "from tqdm import tqdm\n",
        "\n",
        "#if len(sys.argv) != 2:\n",
        "#    print('You must enter the model name as a parameter, e.g.: download_model.py 124M')\n",
        "#    sys.exit(1)\n",
        "\n",
        "model = \"124M\"\n",
        "\n",
        "subdir = os.path.join('models', model)\n",
        "if not os.path.exists(subdir):\n",
        "    os.makedirs(subdir)\n",
        "subdir = subdir.replace('\\\\','/') # needed for Windows\n",
        "\n",
        "for filename in ['checkpoint','encoder.json','hparams.json','model.ckpt.data-00000-of-00001', 'model.ckpt.index', 'model.ckpt.meta', 'vocab.bpe']:\n",
        "\n",
        "    r = requests.get(\"https://storage.googleapis.com/gpt-2/\" + subdir + \"/\" + filename, stream=True)\n",
        "\n",
        "    with open(os.path.join(subdir, filename), 'wb') as f:\n",
        "        file_size = int(r.headers[\"content-length\"])\n",
        "        chunk_size = 1000\n",
        "        with tqdm(ncols=100, desc=\"Fetching \" + filename, total=file_size, unit_scale=True) as pbar:\n",
        "            # 1k for chunk_size, since Ethernet packet size is around 1500 bytes\n",
        "            for chunk in r.iter_content(chunk_size=chunk_size):\n",
        "                f.write(chunk)\n",
        "                pbar.update(chunk_size)"
      ],
      "execution_count": null,
      "outputs": []
    },
    {
      "cell_type": "markdown",
      "metadata": {
        "id": "Tu3dJJ_NFQkV",
        "colab_type": "text"
      },
      "source": [
        "load model and weights"
      ]
    },
    {
      "cell_type": "code",
      "metadata": {
        "ExecuteTime": {
          "end_time": "2020-02-25T00:14:17.393708Z",
          "start_time": "2020-02-25T00:14:12.223156Z"
        },
        "scrolled": true,
        "id": "7z-Q7PavFQkW",
        "colab_type": "code",
        "colab": {},
        "outputId": "10049bad-c7cb-479c-c0d2-b3d2bfb8b09f"
      },
      "source": [
        "import os\n",
        "import sys\n",
        "from keras_gpt_2 import load_trained_model_from_checkpoint, get_bpe_from_files, generate\n",
        "\n",
        "\n",
        "model_folder = r\"C:\\Users\\Karim\\Google Drive\\AAA\\Deep learning\\4-projet\\models\\124M\"\n",
        "config_path = os.path.join(model_folder, 'hparams.json')\n",
        "checkpoint_path = os.path.join(model_folder, 'model.ckpt')\n",
        "encoder_path = os.path.join(model_folder, 'encoder.json')\n",
        "vocab_path = os.path.join(model_folder, 'vocab.bpe')\n",
        "\n",
        "\n",
        "print('Load model from checkpoint...')\n",
        "model = load_trained_model_from_checkpoint(config_path, checkpoint_path)\n",
        "print('Load BPE from files...')\n",
        "bpe = get_bpe_from_files(encoder_path, vocab_path)\n",
        "#print('Generate text...')\n",
        "#output = generate(model, bpe, ['From the day forth, my arm'], length=20, top_k=40)\n",
        "model.summary()"
      ],
      "execution_count": null,
      "outputs": [
        {
          "output_type": "stream",
          "text": [
            "Load model from checkpoint...\n",
            "Load BPE from files...\n",
            "Model: \"model_1\"\n",
            "__________________________________________________________________________________________________\n",
            "Layer (type)                    Output Shape         Param #     Connected to                     \n",
            "==================================================================================================\n",
            "Input (InputLayer)              (None, None)         0                                            \n",
            "__________________________________________________________________________________________________\n",
            "Embed-Token (EmbeddingRet)      [(None, None, 768),  38597376    Input[0][0]                      \n",
            "__________________________________________________________________________________________________\n",
            "Embed-Token-Pos (PositionEmbedd (None, None, 768)    786432      Embed-Token[0][0]                \n",
            "__________________________________________________________________________________________________\n",
            "Encode-0-MultiHeadAtt-Norm (Lay (None, None, 768)    1536        Embed-Token-Pos[0][0]            \n",
            "__________________________________________________________________________________________________\n",
            "Encode-0-MultiHeadAtt (MultiHea (None, None, 768)    2362368     Encode-0-MultiHeadAtt-Norm[0][0] \n",
            "__________________________________________________________________________________________________\n",
            "Encode-0-MultiHeadAtt-Add (Add) (None, None, 768)    0           Embed-Token-Pos[0][0]            \n",
            "                                                                 Encode-0-MultiHeadAtt[0][0]      \n",
            "__________________________________________________________________________________________________\n",
            "Encode-0-FeedForward-Norm (Laye (None, None, 768)    1536        Encode-0-MultiHeadAtt-Add[0][0]  \n",
            "__________________________________________________________________________________________________\n",
            "Encode-0-FeedForward (FeedForwa (None, None, 768)    4722432     Encode-0-FeedForward-Norm[0][0]  \n",
            "__________________________________________________________________________________________________\n",
            "Encode-0-FeedForward-Add (Add)  (None, None, 768)    0           Encode-0-MultiHeadAtt-Add[0][0]  \n",
            "                                                                 Encode-0-FeedForward[0][0]       \n",
            "__________________________________________________________________________________________________\n",
            "Encode-1-MultiHeadAtt-Norm (Lay (None, None, 768)    1536        Encode-0-FeedForward-Add[0][0]   \n",
            "__________________________________________________________________________________________________\n",
            "Encode-1-MultiHeadAtt (MultiHea (None, None, 768)    2362368     Encode-1-MultiHeadAtt-Norm[0][0] \n",
            "__________________________________________________________________________________________________\n",
            "Encode-1-MultiHeadAtt-Add (Add) (None, None, 768)    0           Encode-0-FeedForward-Add[0][0]   \n",
            "                                                                 Encode-1-MultiHeadAtt[0][0]      \n",
            "__________________________________________________________________________________________________\n",
            "Encode-1-FeedForward-Norm (Laye (None, None, 768)    1536        Encode-1-MultiHeadAtt-Add[0][0]  \n",
            "__________________________________________________________________________________________________\n",
            "Encode-1-FeedForward (FeedForwa (None, None, 768)    4722432     Encode-1-FeedForward-Norm[0][0]  \n",
            "__________________________________________________________________________________________________\n",
            "Encode-1-FeedForward-Add (Add)  (None, None, 768)    0           Encode-1-MultiHeadAtt-Add[0][0]  \n",
            "                                                                 Encode-1-FeedForward[0][0]       \n",
            "__________________________________________________________________________________________________\n",
            "Encode-2-MultiHeadAtt-Norm (Lay (None, None, 768)    1536        Encode-1-FeedForward-Add[0][0]   \n",
            "__________________________________________________________________________________________________\n",
            "Encode-2-MultiHeadAtt (MultiHea (None, None, 768)    2362368     Encode-2-MultiHeadAtt-Norm[0][0] \n",
            "__________________________________________________________________________________________________\n",
            "Encode-2-MultiHeadAtt-Add (Add) (None, None, 768)    0           Encode-1-FeedForward-Add[0][0]   \n",
            "                                                                 Encode-2-MultiHeadAtt[0][0]      \n",
            "__________________________________________________________________________________________________\n",
            "Encode-2-FeedForward-Norm (Laye (None, None, 768)    1536        Encode-2-MultiHeadAtt-Add[0][0]  \n",
            "__________________________________________________________________________________________________\n",
            "Encode-2-FeedForward (FeedForwa (None, None, 768)    4722432     Encode-2-FeedForward-Norm[0][0]  \n",
            "__________________________________________________________________________________________________\n",
            "Encode-2-FeedForward-Add (Add)  (None, None, 768)    0           Encode-2-MultiHeadAtt-Add[0][0]  \n",
            "                                                                 Encode-2-FeedForward[0][0]       \n",
            "__________________________________________________________________________________________________\n",
            "Encode-3-MultiHeadAtt-Norm (Lay (None, None, 768)    1536        Encode-2-FeedForward-Add[0][0]   \n",
            "__________________________________________________________________________________________________\n",
            "Encode-3-MultiHeadAtt (MultiHea (None, None, 768)    2362368     Encode-3-MultiHeadAtt-Norm[0][0] \n",
            "__________________________________________________________________________________________________\n",
            "Encode-3-MultiHeadAtt-Add (Add) (None, None, 768)    0           Encode-2-FeedForward-Add[0][0]   \n",
            "                                                                 Encode-3-MultiHeadAtt[0][0]      \n",
            "__________________________________________________________________________________________________\n",
            "Encode-3-FeedForward-Norm (Laye (None, None, 768)    1536        Encode-3-MultiHeadAtt-Add[0][0]  \n",
            "__________________________________________________________________________________________________\n",
            "Encode-3-FeedForward (FeedForwa (None, None, 768)    4722432     Encode-3-FeedForward-Norm[0][0]  \n",
            "__________________________________________________________________________________________________\n",
            "Encode-3-FeedForward-Add (Add)  (None, None, 768)    0           Encode-3-MultiHeadAtt-Add[0][0]  \n",
            "                                                                 Encode-3-FeedForward[0][0]       \n",
            "__________________________________________________________________________________________________\n",
            "Encode-4-MultiHeadAtt-Norm (Lay (None, None, 768)    1536        Encode-3-FeedForward-Add[0][0]   \n",
            "__________________________________________________________________________________________________\n",
            "Encode-4-MultiHeadAtt (MultiHea (None, None, 768)    2362368     Encode-4-MultiHeadAtt-Norm[0][0] \n",
            "__________________________________________________________________________________________________\n",
            "Encode-4-MultiHeadAtt-Add (Add) (None, None, 768)    0           Encode-3-FeedForward-Add[0][0]   \n",
            "                                                                 Encode-4-MultiHeadAtt[0][0]      \n",
            "__________________________________________________________________________________________________\n",
            "Encode-4-FeedForward-Norm (Laye (None, None, 768)    1536        Encode-4-MultiHeadAtt-Add[0][0]  \n",
            "__________________________________________________________________________________________________\n",
            "Encode-4-FeedForward (FeedForwa (None, None, 768)    4722432     Encode-4-FeedForward-Norm[0][0]  \n",
            "__________________________________________________________________________________________________\n",
            "Encode-4-FeedForward-Add (Add)  (None, None, 768)    0           Encode-4-MultiHeadAtt-Add[0][0]  \n",
            "                                                                 Encode-4-FeedForward[0][0]       \n",
            "__________________________________________________________________________________________________\n",
            "Encode-5-MultiHeadAtt-Norm (Lay (None, None, 768)    1536        Encode-4-FeedForward-Add[0][0]   \n",
            "__________________________________________________________________________________________________\n",
            "Encode-5-MultiHeadAtt (MultiHea (None, None, 768)    2362368     Encode-5-MultiHeadAtt-Norm[0][0] \n",
            "__________________________________________________________________________________________________\n",
            "Encode-5-MultiHeadAtt-Add (Add) (None, None, 768)    0           Encode-4-FeedForward-Add[0][0]   \n",
            "                                                                 Encode-5-MultiHeadAtt[0][0]      \n",
            "__________________________________________________________________________________________________\n",
            "Encode-5-FeedForward-Norm (Laye (None, None, 768)    1536        Encode-5-MultiHeadAtt-Add[0][0]  \n",
            "__________________________________________________________________________________________________\n",
            "Encode-5-FeedForward (FeedForwa (None, None, 768)    4722432     Encode-5-FeedForward-Norm[0][0]  \n",
            "__________________________________________________________________________________________________\n",
            "Encode-5-FeedForward-Add (Add)  (None, None, 768)    0           Encode-5-MultiHeadAtt-Add[0][0]  \n",
            "                                                                 Encode-5-FeedForward[0][0]       \n",
            "__________________________________________________________________________________________________\n",
            "Encode-6-MultiHeadAtt-Norm (Lay (None, None, 768)    1536        Encode-5-FeedForward-Add[0][0]   \n",
            "__________________________________________________________________________________________________\n",
            "Encode-6-MultiHeadAtt (MultiHea (None, None, 768)    2362368     Encode-6-MultiHeadAtt-Norm[0][0] \n",
            "__________________________________________________________________________________________________\n",
            "Encode-6-MultiHeadAtt-Add (Add) (None, None, 768)    0           Encode-5-FeedForward-Add[0][0]   \n",
            "                                                                 Encode-6-MultiHeadAtt[0][0]      \n",
            "__________________________________________________________________________________________________\n",
            "Encode-6-FeedForward-Norm (Laye (None, None, 768)    1536        Encode-6-MultiHeadAtt-Add[0][0]  \n",
            "__________________________________________________________________________________________________\n",
            "Encode-6-FeedForward (FeedForwa (None, None, 768)    4722432     Encode-6-FeedForward-Norm[0][0]  \n",
            "__________________________________________________________________________________________________\n",
            "Encode-6-FeedForward-Add (Add)  (None, None, 768)    0           Encode-6-MultiHeadAtt-Add[0][0]  \n",
            "                                                                 Encode-6-FeedForward[0][0]       \n",
            "__________________________________________________________________________________________________\n",
            "Encode-7-MultiHeadAtt-Norm (Lay (None, None, 768)    1536        Encode-6-FeedForward-Add[0][0]   \n",
            "__________________________________________________________________________________________________\n",
            "Encode-7-MultiHeadAtt (MultiHea (None, None, 768)    2362368     Encode-7-MultiHeadAtt-Norm[0][0] \n",
            "__________________________________________________________________________________________________\n",
            "Encode-7-MultiHeadAtt-Add (Add) (None, None, 768)    0           Encode-6-FeedForward-Add[0][0]   \n",
            "                                                                 Encode-7-MultiHeadAtt[0][0]      \n",
            "__________________________________________________________________________________________________\n",
            "Encode-7-FeedForward-Norm (Laye (None, None, 768)    1536        Encode-7-MultiHeadAtt-Add[0][0]  \n",
            "__________________________________________________________________________________________________\n",
            "Encode-7-FeedForward (FeedForwa (None, None, 768)    4722432     Encode-7-FeedForward-Norm[0][0]  \n",
            "__________________________________________________________________________________________________\n",
            "Encode-7-FeedForward-Add (Add)  (None, None, 768)    0           Encode-7-MultiHeadAtt-Add[0][0]  \n",
            "                                                                 Encode-7-FeedForward[0][0]       \n",
            "__________________________________________________________________________________________________\n",
            "Encode-8-MultiHeadAtt-Norm (Lay (None, None, 768)    1536        Encode-7-FeedForward-Add[0][0]   \n",
            "__________________________________________________________________________________________________\n",
            "Encode-8-MultiHeadAtt (MultiHea (None, None, 768)    2362368     Encode-8-MultiHeadAtt-Norm[0][0] \n",
            "__________________________________________________________________________________________________\n",
            "Encode-8-MultiHeadAtt-Add (Add) (None, None, 768)    0           Encode-7-FeedForward-Add[0][0]   \n",
            "                                                                 Encode-8-MultiHeadAtt[0][0]      \n",
            "__________________________________________________________________________________________________\n",
            "Encode-8-FeedForward-Norm (Laye (None, None, 768)    1536        Encode-8-MultiHeadAtt-Add[0][0]  \n",
            "__________________________________________________________________________________________________\n",
            "Encode-8-FeedForward (FeedForwa (None, None, 768)    4722432     Encode-8-FeedForward-Norm[0][0]  \n",
            "__________________________________________________________________________________________________\n",
            "Encode-8-FeedForward-Add (Add)  (None, None, 768)    0           Encode-8-MultiHeadAtt-Add[0][0]  \n",
            "                                                                 Encode-8-FeedForward[0][0]       \n",
            "__________________________________________________________________________________________________\n",
            "Encode-9-MultiHeadAtt-Norm (Lay (None, None, 768)    1536        Encode-8-FeedForward-Add[0][0]   \n",
            "__________________________________________________________________________________________________\n",
            "Encode-9-MultiHeadAtt (MultiHea (None, None, 768)    2362368     Encode-9-MultiHeadAtt-Norm[0][0] \n",
            "__________________________________________________________________________________________________\n",
            "Encode-9-MultiHeadAtt-Add (Add) (None, None, 768)    0           Encode-8-FeedForward-Add[0][0]   \n",
            "                                                                 Encode-9-MultiHeadAtt[0][0]      \n",
            "__________________________________________________________________________________________________\n",
            "Encode-9-FeedForward-Norm (Laye (None, None, 768)    1536        Encode-9-MultiHeadAtt-Add[0][0]  \n",
            "__________________________________________________________________________________________________\n",
            "Encode-9-FeedForward (FeedForwa (None, None, 768)    4722432     Encode-9-FeedForward-Norm[0][0]  \n",
            "__________________________________________________________________________________________________\n",
            "Encode-9-FeedForward-Add (Add)  (None, None, 768)    0           Encode-9-MultiHeadAtt-Add[0][0]  \n",
            "                                                                 Encode-9-FeedForward[0][0]       \n",
            "__________________________________________________________________________________________________\n",
            "Encode-10-MultiHeadAtt-Norm (La (None, None, 768)    1536        Encode-9-FeedForward-Add[0][0]   \n",
            "__________________________________________________________________________________________________\n",
            "Encode-10-MultiHeadAtt (MultiHe (None, None, 768)    2362368     Encode-10-MultiHeadAtt-Norm[0][0]\n",
            "__________________________________________________________________________________________________\n",
            "Encode-10-MultiHeadAtt-Add (Add (None, None, 768)    0           Encode-9-FeedForward-Add[0][0]   \n",
            "                                                                 Encode-10-MultiHeadAtt[0][0]     \n",
            "__________________________________________________________________________________________________\n",
            "Encode-10-FeedForward-Norm (Lay (None, None, 768)    1536        Encode-10-MultiHeadAtt-Add[0][0] \n",
            "__________________________________________________________________________________________________\n",
            "Encode-10-FeedForward (FeedForw (None, None, 768)    4722432     Encode-10-FeedForward-Norm[0][0] \n",
            "__________________________________________________________________________________________________\n",
            "Encode-10-FeedForward-Add (Add) (None, None, 768)    0           Encode-10-MultiHeadAtt-Add[0][0] \n",
            "                                                                 Encode-10-FeedForward[0][0]      \n",
            "__________________________________________________________________________________________________\n",
            "Encode-11-MultiHeadAtt-Norm (La (None, None, 768)    1536        Encode-10-FeedForward-Add[0][0]  \n",
            "__________________________________________________________________________________________________\n",
            "Encode-11-MultiHeadAtt (MultiHe (None, None, 768)    2362368     Encode-11-MultiHeadAtt-Norm[0][0]\n",
            "__________________________________________________________________________________________________\n",
            "Encode-11-MultiHeadAtt-Add (Add (None, None, 768)    0           Encode-10-FeedForward-Add[0][0]  \n",
            "                                                                 Encode-11-MultiHeadAtt[0][0]     \n",
            "__________________________________________________________________________________________________\n",
            "Encode-11-FeedForward-Norm (Lay (None, None, 768)    1536        Encode-11-MultiHeadAtt-Add[0][0] \n",
            "__________________________________________________________________________________________________\n",
            "Encode-11-FeedForward (FeedForw (None, None, 768)    4722432     Encode-11-FeedForward-Norm[0][0] \n",
            "__________________________________________________________________________________________________\n",
            "Encode-11-FeedForward-Add (Add) (None, None, 768)    0           Encode-11-MultiHeadAtt-Add[0][0] \n",
            "                                                                 Encode-11-FeedForward[0][0]      \n",
            "__________________________________________________________________________________________________\n",
            "Norm (LayerNormalization)       (None, None, 768)    1536        Encode-11-FeedForward-Add[0][0]  \n",
            "__________________________________________________________________________________________________\n",
            "Output (EmbeddingSim)           (None, None, 50257)  0           Norm[0][0]                       \n",
            "                                                                 Embed-Token[0][1]                \n",
            "==================================================================================================\n",
            "Total params: 124,439,808\n",
            "Trainable params: 124,439,808\n",
            "Non-trainable params: 0\n",
            "__________________________________________________________________________________________________\n"
          ],
          "name": "stdout"
        }
      ]
    },
    {
      "cell_type": "markdown",
      "metadata": {
        "id": "29Wk-KJfFQkf",
        "colab_type": "text"
      },
      "source": [
        "## change model's head\n",
        "delete last layer that output word embedding"
      ]
    },
    {
      "cell_type": "code",
      "metadata": {
        "ExecuteTime": {
          "end_time": "2020-02-25T00:14:17.432580Z",
          "start_time": "2020-02-25T00:14:17.395702Z"
        },
        "id": "6DGOLQ1FFQkg",
        "colab_type": "code",
        "colab": {},
        "outputId": "ecb80689-e894-414e-b282-1cb53566ac31"
      },
      "source": [
        "model.layers.pop() # delete last layer that output word embedding\n",
        "\n",
        "# freeze all loaded layers\n",
        "for layer in model.layers:\n",
        "    layer.trainable=False\n",
        "#compile to apply the .trainable change \n",
        "model.compile(input=model.input,output=model.layers[-1],loss=\"binary_crossentropy\", optimizer=\"rmsprop\", metrics=['accuracy'])\n",
        "\n",
        "model.summary()"
      ],
      "execution_count": null,
      "outputs": [
        {
          "output_type": "stream",
          "text": [
            "Model: \"model_1\"\n",
            "__________________________________________________________________________________________________\n",
            "Layer (type)                    Output Shape         Param #     Connected to                     \n",
            "==================================================================================================\n",
            "Input (InputLayer)              (None, None)         0                                            \n",
            "__________________________________________________________________________________________________\n",
            "Embed-Token (EmbeddingRet)      [(None, None, 768),  38597376    Input[0][0]                      \n",
            "__________________________________________________________________________________________________\n",
            "Embed-Token-Pos (PositionEmbedd (None, None, 768)    786432      Embed-Token[0][0]                \n",
            "__________________________________________________________________________________________________\n",
            "Encode-0-MultiHeadAtt-Norm (Lay (None, None, 768)    1536        Embed-Token-Pos[0][0]            \n",
            "__________________________________________________________________________________________________\n",
            "Encode-0-MultiHeadAtt (MultiHea (None, None, 768)    2362368     Encode-0-MultiHeadAtt-Norm[0][0] \n",
            "__________________________________________________________________________________________________\n",
            "Encode-0-MultiHeadAtt-Add (Add) (None, None, 768)    0           Embed-Token-Pos[0][0]            \n",
            "                                                                 Encode-0-MultiHeadAtt[0][0]      \n",
            "__________________________________________________________________________________________________\n",
            "Encode-0-FeedForward-Norm (Laye (None, None, 768)    1536        Encode-0-MultiHeadAtt-Add[0][0]  \n",
            "__________________________________________________________________________________________________\n",
            "Encode-0-FeedForward (FeedForwa (None, None, 768)    4722432     Encode-0-FeedForward-Norm[0][0]  \n",
            "__________________________________________________________________________________________________\n",
            "Encode-0-FeedForward-Add (Add)  (None, None, 768)    0           Encode-0-MultiHeadAtt-Add[0][0]  \n",
            "                                                                 Encode-0-FeedForward[0][0]       \n",
            "__________________________________________________________________________________________________\n",
            "Encode-1-MultiHeadAtt-Norm (Lay (None, None, 768)    1536        Encode-0-FeedForward-Add[0][0]   \n",
            "__________________________________________________________________________________________________\n",
            "Encode-1-MultiHeadAtt (MultiHea (None, None, 768)    2362368     Encode-1-MultiHeadAtt-Norm[0][0] \n",
            "__________________________________________________________________________________________________\n",
            "Encode-1-MultiHeadAtt-Add (Add) (None, None, 768)    0           Encode-0-FeedForward-Add[0][0]   \n",
            "                                                                 Encode-1-MultiHeadAtt[0][0]      \n",
            "__________________________________________________________________________________________________\n",
            "Encode-1-FeedForward-Norm (Laye (None, None, 768)    1536        Encode-1-MultiHeadAtt-Add[0][0]  \n",
            "__________________________________________________________________________________________________\n",
            "Encode-1-FeedForward (FeedForwa (None, None, 768)    4722432     Encode-1-FeedForward-Norm[0][0]  \n",
            "__________________________________________________________________________________________________\n",
            "Encode-1-FeedForward-Add (Add)  (None, None, 768)    0           Encode-1-MultiHeadAtt-Add[0][0]  \n",
            "                                                                 Encode-1-FeedForward[0][0]       \n",
            "__________________________________________________________________________________________________\n",
            "Encode-2-MultiHeadAtt-Norm (Lay (None, None, 768)    1536        Encode-1-FeedForward-Add[0][0]   \n",
            "__________________________________________________________________________________________________\n",
            "Encode-2-MultiHeadAtt (MultiHea (None, None, 768)    2362368     Encode-2-MultiHeadAtt-Norm[0][0] \n",
            "__________________________________________________________________________________________________\n",
            "Encode-2-MultiHeadAtt-Add (Add) (None, None, 768)    0           Encode-1-FeedForward-Add[0][0]   \n",
            "                                                                 Encode-2-MultiHeadAtt[0][0]      \n",
            "__________________________________________________________________________________________________\n",
            "Encode-2-FeedForward-Norm (Laye (None, None, 768)    1536        Encode-2-MultiHeadAtt-Add[0][0]  \n",
            "__________________________________________________________________________________________________\n",
            "Encode-2-FeedForward (FeedForwa (None, None, 768)    4722432     Encode-2-FeedForward-Norm[0][0]  \n",
            "__________________________________________________________________________________________________\n",
            "Encode-2-FeedForward-Add (Add)  (None, None, 768)    0           Encode-2-MultiHeadAtt-Add[0][0]  \n",
            "                                                                 Encode-2-FeedForward[0][0]       \n",
            "__________________________________________________________________________________________________\n",
            "Encode-3-MultiHeadAtt-Norm (Lay (None, None, 768)    1536        Encode-2-FeedForward-Add[0][0]   \n",
            "__________________________________________________________________________________________________\n",
            "Encode-3-MultiHeadAtt (MultiHea (None, None, 768)    2362368     Encode-3-MultiHeadAtt-Norm[0][0] \n",
            "__________________________________________________________________________________________________\n",
            "Encode-3-MultiHeadAtt-Add (Add) (None, None, 768)    0           Encode-2-FeedForward-Add[0][0]   \n",
            "                                                                 Encode-3-MultiHeadAtt[0][0]      \n",
            "__________________________________________________________________________________________________\n",
            "Encode-3-FeedForward-Norm (Laye (None, None, 768)    1536        Encode-3-MultiHeadAtt-Add[0][0]  \n",
            "__________________________________________________________________________________________________\n",
            "Encode-3-FeedForward (FeedForwa (None, None, 768)    4722432     Encode-3-FeedForward-Norm[0][0]  \n",
            "__________________________________________________________________________________________________\n",
            "Encode-3-FeedForward-Add (Add)  (None, None, 768)    0           Encode-3-MultiHeadAtt-Add[0][0]  \n",
            "                                                                 Encode-3-FeedForward[0][0]       \n",
            "__________________________________________________________________________________________________\n",
            "Encode-4-MultiHeadAtt-Norm (Lay (None, None, 768)    1536        Encode-3-FeedForward-Add[0][0]   \n",
            "__________________________________________________________________________________________________\n",
            "Encode-4-MultiHeadAtt (MultiHea (None, None, 768)    2362368     Encode-4-MultiHeadAtt-Norm[0][0] \n",
            "__________________________________________________________________________________________________\n",
            "Encode-4-MultiHeadAtt-Add (Add) (None, None, 768)    0           Encode-3-FeedForward-Add[0][0]   \n",
            "                                                                 Encode-4-MultiHeadAtt[0][0]      \n",
            "__________________________________________________________________________________________________\n",
            "Encode-4-FeedForward-Norm (Laye (None, None, 768)    1536        Encode-4-MultiHeadAtt-Add[0][0]  \n",
            "__________________________________________________________________________________________________\n",
            "Encode-4-FeedForward (FeedForwa (None, None, 768)    4722432     Encode-4-FeedForward-Norm[0][0]  \n",
            "__________________________________________________________________________________________________\n",
            "Encode-4-FeedForward-Add (Add)  (None, None, 768)    0           Encode-4-MultiHeadAtt-Add[0][0]  \n",
            "                                                                 Encode-4-FeedForward[0][0]       \n",
            "__________________________________________________________________________________________________\n",
            "Encode-5-MultiHeadAtt-Norm (Lay (None, None, 768)    1536        Encode-4-FeedForward-Add[0][0]   \n",
            "__________________________________________________________________________________________________\n",
            "Encode-5-MultiHeadAtt (MultiHea (None, None, 768)    2362368     Encode-5-MultiHeadAtt-Norm[0][0] \n",
            "__________________________________________________________________________________________________\n",
            "Encode-5-MultiHeadAtt-Add (Add) (None, None, 768)    0           Encode-4-FeedForward-Add[0][0]   \n",
            "                                                                 Encode-5-MultiHeadAtt[0][0]      \n",
            "__________________________________________________________________________________________________\n",
            "Encode-5-FeedForward-Norm (Laye (None, None, 768)    1536        Encode-5-MultiHeadAtt-Add[0][0]  \n",
            "__________________________________________________________________________________________________\n",
            "Encode-5-FeedForward (FeedForwa (None, None, 768)    4722432     Encode-5-FeedForward-Norm[0][0]  \n",
            "__________________________________________________________________________________________________\n",
            "Encode-5-FeedForward-Add (Add)  (None, None, 768)    0           Encode-5-MultiHeadAtt-Add[0][0]  \n",
            "                                                                 Encode-5-FeedForward[0][0]       \n",
            "__________________________________________________________________________________________________\n",
            "Encode-6-MultiHeadAtt-Norm (Lay (None, None, 768)    1536        Encode-5-FeedForward-Add[0][0]   \n",
            "__________________________________________________________________________________________________\n",
            "Encode-6-MultiHeadAtt (MultiHea (None, None, 768)    2362368     Encode-6-MultiHeadAtt-Norm[0][0] \n",
            "__________________________________________________________________________________________________\n",
            "Encode-6-MultiHeadAtt-Add (Add) (None, None, 768)    0           Encode-5-FeedForward-Add[0][0]   \n",
            "                                                                 Encode-6-MultiHeadAtt[0][0]      \n",
            "__________________________________________________________________________________________________\n",
            "Encode-6-FeedForward-Norm (Laye (None, None, 768)    1536        Encode-6-MultiHeadAtt-Add[0][0]  \n",
            "__________________________________________________________________________________________________\n",
            "Encode-6-FeedForward (FeedForwa (None, None, 768)    4722432     Encode-6-FeedForward-Norm[0][0]  \n",
            "__________________________________________________________________________________________________\n",
            "Encode-6-FeedForward-Add (Add)  (None, None, 768)    0           Encode-6-MultiHeadAtt-Add[0][0]  \n",
            "                                                                 Encode-6-FeedForward[0][0]       \n",
            "__________________________________________________________________________________________________\n",
            "Encode-7-MultiHeadAtt-Norm (Lay (None, None, 768)    1536        Encode-6-FeedForward-Add[0][0]   \n",
            "__________________________________________________________________________________________________\n",
            "Encode-7-MultiHeadAtt (MultiHea (None, None, 768)    2362368     Encode-7-MultiHeadAtt-Norm[0][0] \n",
            "__________________________________________________________________________________________________\n",
            "Encode-7-MultiHeadAtt-Add (Add) (None, None, 768)    0           Encode-6-FeedForward-Add[0][0]   \n",
            "                                                                 Encode-7-MultiHeadAtt[0][0]      \n",
            "__________________________________________________________________________________________________\n",
            "Encode-7-FeedForward-Norm (Laye (None, None, 768)    1536        Encode-7-MultiHeadAtt-Add[0][0]  \n",
            "__________________________________________________________________________________________________\n",
            "Encode-7-FeedForward (FeedForwa (None, None, 768)    4722432     Encode-7-FeedForward-Norm[0][0]  \n",
            "__________________________________________________________________________________________________\n",
            "Encode-7-FeedForward-Add (Add)  (None, None, 768)    0           Encode-7-MultiHeadAtt-Add[0][0]  \n",
            "                                                                 Encode-7-FeedForward[0][0]       \n",
            "__________________________________________________________________________________________________\n",
            "Encode-8-MultiHeadAtt-Norm (Lay (None, None, 768)    1536        Encode-7-FeedForward-Add[0][0]   \n",
            "__________________________________________________________________________________________________\n",
            "Encode-8-MultiHeadAtt (MultiHea (None, None, 768)    2362368     Encode-8-MultiHeadAtt-Norm[0][0] \n",
            "__________________________________________________________________________________________________\n",
            "Encode-8-MultiHeadAtt-Add (Add) (None, None, 768)    0           Encode-7-FeedForward-Add[0][0]   \n",
            "                                                                 Encode-8-MultiHeadAtt[0][0]      \n",
            "__________________________________________________________________________________________________\n",
            "Encode-8-FeedForward-Norm (Laye (None, None, 768)    1536        Encode-8-MultiHeadAtt-Add[0][0]  \n",
            "__________________________________________________________________________________________________\n",
            "Encode-8-FeedForward (FeedForwa (None, None, 768)    4722432     Encode-8-FeedForward-Norm[0][0]  \n",
            "__________________________________________________________________________________________________\n",
            "Encode-8-FeedForward-Add (Add)  (None, None, 768)    0           Encode-8-MultiHeadAtt-Add[0][0]  \n",
            "                                                                 Encode-8-FeedForward[0][0]       \n",
            "__________________________________________________________________________________________________\n",
            "Encode-9-MultiHeadAtt-Norm (Lay (None, None, 768)    1536        Encode-8-FeedForward-Add[0][0]   \n",
            "__________________________________________________________________________________________________\n",
            "Encode-9-MultiHeadAtt (MultiHea (None, None, 768)    2362368     Encode-9-MultiHeadAtt-Norm[0][0] \n",
            "__________________________________________________________________________________________________\n",
            "Encode-9-MultiHeadAtt-Add (Add) (None, None, 768)    0           Encode-8-FeedForward-Add[0][0]   \n",
            "                                                                 Encode-9-MultiHeadAtt[0][0]      \n",
            "__________________________________________________________________________________________________\n",
            "Encode-9-FeedForward-Norm (Laye (None, None, 768)    1536        Encode-9-MultiHeadAtt-Add[0][0]  \n",
            "__________________________________________________________________________________________________\n",
            "Encode-9-FeedForward (FeedForwa (None, None, 768)    4722432     Encode-9-FeedForward-Norm[0][0]  \n",
            "__________________________________________________________________________________________________\n",
            "Encode-9-FeedForward-Add (Add)  (None, None, 768)    0           Encode-9-MultiHeadAtt-Add[0][0]  \n",
            "                                                                 Encode-9-FeedForward[0][0]       \n",
            "__________________________________________________________________________________________________\n",
            "Encode-10-MultiHeadAtt-Norm (La (None, None, 768)    1536        Encode-9-FeedForward-Add[0][0]   \n",
            "__________________________________________________________________________________________________\n",
            "Encode-10-MultiHeadAtt (MultiHe (None, None, 768)    2362368     Encode-10-MultiHeadAtt-Norm[0][0]\n",
            "__________________________________________________________________________________________________\n",
            "Encode-10-MultiHeadAtt-Add (Add (None, None, 768)    0           Encode-9-FeedForward-Add[0][0]   \n",
            "                                                                 Encode-10-MultiHeadAtt[0][0]     \n",
            "__________________________________________________________________________________________________\n",
            "Encode-10-FeedForward-Norm (Lay (None, None, 768)    1536        Encode-10-MultiHeadAtt-Add[0][0] \n",
            "__________________________________________________________________________________________________\n",
            "Encode-10-FeedForward (FeedForw (None, None, 768)    4722432     Encode-10-FeedForward-Norm[0][0] \n",
            "__________________________________________________________________________________________________\n",
            "Encode-10-FeedForward-Add (Add) (None, None, 768)    0           Encode-10-MultiHeadAtt-Add[0][0] \n",
            "                                                                 Encode-10-FeedForward[0][0]      \n",
            "__________________________________________________________________________________________________\n",
            "Encode-11-MultiHeadAtt-Norm (La (None, None, 768)    1536        Encode-10-FeedForward-Add[0][0]  \n",
            "__________________________________________________________________________________________________\n",
            "Encode-11-MultiHeadAtt (MultiHe (None, None, 768)    2362368     Encode-11-MultiHeadAtt-Norm[0][0]\n",
            "__________________________________________________________________________________________________\n",
            "Encode-11-MultiHeadAtt-Add (Add (None, None, 768)    0           Encode-10-FeedForward-Add[0][0]  \n",
            "                                                                 Encode-11-MultiHeadAtt[0][0]     \n",
            "__________________________________________________________________________________________________\n",
            "Encode-11-FeedForward-Norm (Lay (None, None, 768)    1536        Encode-11-MultiHeadAtt-Add[0][0] \n",
            "__________________________________________________________________________________________________\n",
            "Encode-11-FeedForward (FeedForw (None, None, 768)    4722432     Encode-11-FeedForward-Norm[0][0] \n",
            "__________________________________________________________________________________________________\n",
            "Encode-11-FeedForward-Add (Add) (None, None, 768)    0           Encode-11-MultiHeadAtt-Add[0][0] \n",
            "                                                                 Encode-11-FeedForward[0][0]      \n",
            "__________________________________________________________________________________________________\n",
            "Norm (LayerNormalization)       (None, None, 768)    1536        Encode-11-FeedForward-Add[0][0]  \n",
            "==================================================================================================\n",
            "Total params: 124,439,808\n",
            "Trainable params: 0\n",
            "Non-trainable params: 124,439,808\n",
            "__________________________________________________________________________________________________\n"
          ],
          "name": "stdout"
        }
      ]
    },
    {
      "cell_type": "code",
      "metadata": {
        "ExecuteTime": {
          "end_time": "2020-02-25T00:17:30.153846Z",
          "start_time": "2020-02-25T00:17:30.105008Z"
        },
        "id": "69XKB143FQkp",
        "colab_type": "code",
        "colab": {},
        "outputId": "9492c7aa-837c-4de7-c0e6-e9a02d22a12e"
      },
      "source": [
        "# .GlobalMaxPool1D is a must here because we do not know the sentence's length\n",
        "GlobalmaxPool = keras.layers.GlobalMaxPool1D(input_shape=(None,768))(model.layers[-1].output)\n",
        "output_layer = keras.layers.Dense(1, activation=\"sigmoid\")(GlobalmaxPool)\n",
        "\n",
        "model = keras.Model(input=model.input,output=output_layer) # re-define input and output of the graph\n",
        "model.compile(loss=\"binary_crossentropy\", optimizer=\"rmsprop\", metrics=['accuracy'])\n",
        "\n",
        "model.summary()"
      ],
      "execution_count": null,
      "outputs": [
        {
          "output_type": "stream",
          "text": [
            "Model: \"model_2\"\n",
            "__________________________________________________________________________________________________\n",
            "Layer (type)                    Output Shape         Param #     Connected to                     \n",
            "==================================================================================================\n",
            "Input (InputLayer)              (None, None)         0                                            \n",
            "__________________________________________________________________________________________________\n",
            "Embed-Token (EmbeddingRet)      [(None, None, 768),  38597376    Input[0][0]                      \n",
            "__________________________________________________________________________________________________\n",
            "Embed-Token-Pos (PositionEmbedd (None, None, 768)    786432      Embed-Token[0][0]                \n",
            "__________________________________________________________________________________________________\n",
            "Encode-0-MultiHeadAtt-Norm (Lay (None, None, 768)    1536        Embed-Token-Pos[0][0]            \n",
            "__________________________________________________________________________________________________\n",
            "Encode-0-MultiHeadAtt (MultiHea (None, None, 768)    2362368     Encode-0-MultiHeadAtt-Norm[0][0] \n",
            "__________________________________________________________________________________________________\n",
            "Encode-0-MultiHeadAtt-Add (Add) (None, None, 768)    0           Embed-Token-Pos[0][0]            \n",
            "                                                                 Encode-0-MultiHeadAtt[0][0]      \n",
            "__________________________________________________________________________________________________\n",
            "Encode-0-FeedForward-Norm (Laye (None, None, 768)    1536        Encode-0-MultiHeadAtt-Add[0][0]  \n",
            "__________________________________________________________________________________________________\n",
            "Encode-0-FeedForward (FeedForwa (None, None, 768)    4722432     Encode-0-FeedForward-Norm[0][0]  \n",
            "__________________________________________________________________________________________________\n",
            "Encode-0-FeedForward-Add (Add)  (None, None, 768)    0           Encode-0-MultiHeadAtt-Add[0][0]  \n",
            "                                                                 Encode-0-FeedForward[0][0]       \n",
            "__________________________________________________________________________________________________\n",
            "Encode-1-MultiHeadAtt-Norm (Lay (None, None, 768)    1536        Encode-0-FeedForward-Add[0][0]   \n",
            "__________________________________________________________________________________________________\n",
            "Encode-1-MultiHeadAtt (MultiHea (None, None, 768)    2362368     Encode-1-MultiHeadAtt-Norm[0][0] \n",
            "__________________________________________________________________________________________________\n",
            "Encode-1-MultiHeadAtt-Add (Add) (None, None, 768)    0           Encode-0-FeedForward-Add[0][0]   \n",
            "                                                                 Encode-1-MultiHeadAtt[0][0]      \n",
            "__________________________________________________________________________________________________\n",
            "Encode-1-FeedForward-Norm (Laye (None, None, 768)    1536        Encode-1-MultiHeadAtt-Add[0][0]  \n",
            "__________________________________________________________________________________________________\n",
            "Encode-1-FeedForward (FeedForwa (None, None, 768)    4722432     Encode-1-FeedForward-Norm[0][0]  \n",
            "__________________________________________________________________________________________________\n",
            "Encode-1-FeedForward-Add (Add)  (None, None, 768)    0           Encode-1-MultiHeadAtt-Add[0][0]  \n",
            "                                                                 Encode-1-FeedForward[0][0]       \n",
            "__________________________________________________________________________________________________\n",
            "Encode-2-MultiHeadAtt-Norm (Lay (None, None, 768)    1536        Encode-1-FeedForward-Add[0][0]   \n",
            "__________________________________________________________________________________________________\n",
            "Encode-2-MultiHeadAtt (MultiHea (None, None, 768)    2362368     Encode-2-MultiHeadAtt-Norm[0][0] \n",
            "__________________________________________________________________________________________________\n",
            "Encode-2-MultiHeadAtt-Add (Add) (None, None, 768)    0           Encode-1-FeedForward-Add[0][0]   \n",
            "                                                                 Encode-2-MultiHeadAtt[0][0]      \n",
            "__________________________________________________________________________________________________\n",
            "Encode-2-FeedForward-Norm (Laye (None, None, 768)    1536        Encode-2-MultiHeadAtt-Add[0][0]  \n",
            "__________________________________________________________________________________________________\n",
            "Encode-2-FeedForward (FeedForwa (None, None, 768)    4722432     Encode-2-FeedForward-Norm[0][0]  \n",
            "__________________________________________________________________________________________________\n",
            "Encode-2-FeedForward-Add (Add)  (None, None, 768)    0           Encode-2-MultiHeadAtt-Add[0][0]  \n",
            "                                                                 Encode-2-FeedForward[0][0]       \n",
            "__________________________________________________________________________________________________\n",
            "Encode-3-MultiHeadAtt-Norm (Lay (None, None, 768)    1536        Encode-2-FeedForward-Add[0][0]   \n",
            "__________________________________________________________________________________________________\n",
            "Encode-3-MultiHeadAtt (MultiHea (None, None, 768)    2362368     Encode-3-MultiHeadAtt-Norm[0][0] \n",
            "__________________________________________________________________________________________________\n",
            "Encode-3-MultiHeadAtt-Add (Add) (None, None, 768)    0           Encode-2-FeedForward-Add[0][0]   \n",
            "                                                                 Encode-3-MultiHeadAtt[0][0]      \n",
            "__________________________________________________________________________________________________\n",
            "Encode-3-FeedForward-Norm (Laye (None, None, 768)    1536        Encode-3-MultiHeadAtt-Add[0][0]  \n",
            "__________________________________________________________________________________________________\n",
            "Encode-3-FeedForward (FeedForwa (None, None, 768)    4722432     Encode-3-FeedForward-Norm[0][0]  \n",
            "__________________________________________________________________________________________________\n",
            "Encode-3-FeedForward-Add (Add)  (None, None, 768)    0           Encode-3-MultiHeadAtt-Add[0][0]  \n",
            "                                                                 Encode-3-FeedForward[0][0]       \n",
            "__________________________________________________________________________________________________\n",
            "Encode-4-MultiHeadAtt-Norm (Lay (None, None, 768)    1536        Encode-3-FeedForward-Add[0][0]   \n",
            "__________________________________________________________________________________________________\n",
            "Encode-4-MultiHeadAtt (MultiHea (None, None, 768)    2362368     Encode-4-MultiHeadAtt-Norm[0][0] \n",
            "__________________________________________________________________________________________________\n",
            "Encode-4-MultiHeadAtt-Add (Add) (None, None, 768)    0           Encode-3-FeedForward-Add[0][0]   \n",
            "                                                                 Encode-4-MultiHeadAtt[0][0]      \n",
            "__________________________________________________________________________________________________\n",
            "Encode-4-FeedForward-Norm (Laye (None, None, 768)    1536        Encode-4-MultiHeadAtt-Add[0][0]  \n",
            "__________________________________________________________________________________________________\n",
            "Encode-4-FeedForward (FeedForwa (None, None, 768)    4722432     Encode-4-FeedForward-Norm[0][0]  \n",
            "__________________________________________________________________________________________________\n",
            "Encode-4-FeedForward-Add (Add)  (None, None, 768)    0           Encode-4-MultiHeadAtt-Add[0][0]  \n",
            "                                                                 Encode-4-FeedForward[0][0]       \n",
            "__________________________________________________________________________________________________\n",
            "Encode-5-MultiHeadAtt-Norm (Lay (None, None, 768)    1536        Encode-4-FeedForward-Add[0][0]   \n",
            "__________________________________________________________________________________________________\n",
            "Encode-5-MultiHeadAtt (MultiHea (None, None, 768)    2362368     Encode-5-MultiHeadAtt-Norm[0][0] \n",
            "__________________________________________________________________________________________________\n",
            "Encode-5-MultiHeadAtt-Add (Add) (None, None, 768)    0           Encode-4-FeedForward-Add[0][0]   \n",
            "                                                                 Encode-5-MultiHeadAtt[0][0]      \n",
            "__________________________________________________________________________________________________\n",
            "Encode-5-FeedForward-Norm (Laye (None, None, 768)    1536        Encode-5-MultiHeadAtt-Add[0][0]  \n",
            "__________________________________________________________________________________________________\n",
            "Encode-5-FeedForward (FeedForwa (None, None, 768)    4722432     Encode-5-FeedForward-Norm[0][0]  \n",
            "__________________________________________________________________________________________________\n",
            "Encode-5-FeedForward-Add (Add)  (None, None, 768)    0           Encode-5-MultiHeadAtt-Add[0][0]  \n",
            "                                                                 Encode-5-FeedForward[0][0]       \n",
            "__________________________________________________________________________________________________\n",
            "Encode-6-MultiHeadAtt-Norm (Lay (None, None, 768)    1536        Encode-5-FeedForward-Add[0][0]   \n",
            "__________________________________________________________________________________________________\n",
            "Encode-6-MultiHeadAtt (MultiHea (None, None, 768)    2362368     Encode-6-MultiHeadAtt-Norm[0][0] \n",
            "__________________________________________________________________________________________________\n",
            "Encode-6-MultiHeadAtt-Add (Add) (None, None, 768)    0           Encode-5-FeedForward-Add[0][0]   \n",
            "                                                                 Encode-6-MultiHeadAtt[0][0]      \n",
            "__________________________________________________________________________________________________\n",
            "Encode-6-FeedForward-Norm (Laye (None, None, 768)    1536        Encode-6-MultiHeadAtt-Add[0][0]  \n",
            "__________________________________________________________________________________________________\n",
            "Encode-6-FeedForward (FeedForwa (None, None, 768)    4722432     Encode-6-FeedForward-Norm[0][0]  \n",
            "__________________________________________________________________________________________________\n",
            "Encode-6-FeedForward-Add (Add)  (None, None, 768)    0           Encode-6-MultiHeadAtt-Add[0][0]  \n",
            "                                                                 Encode-6-FeedForward[0][0]       \n",
            "__________________________________________________________________________________________________\n",
            "Encode-7-MultiHeadAtt-Norm (Lay (None, None, 768)    1536        Encode-6-FeedForward-Add[0][0]   \n",
            "__________________________________________________________________________________________________\n",
            "Encode-7-MultiHeadAtt (MultiHea (None, None, 768)    2362368     Encode-7-MultiHeadAtt-Norm[0][0] \n",
            "__________________________________________________________________________________________________\n",
            "Encode-7-MultiHeadAtt-Add (Add) (None, None, 768)    0           Encode-6-FeedForward-Add[0][0]   \n",
            "                                                                 Encode-7-MultiHeadAtt[0][0]      \n",
            "__________________________________________________________________________________________________\n",
            "Encode-7-FeedForward-Norm (Laye (None, None, 768)    1536        Encode-7-MultiHeadAtt-Add[0][0]  \n",
            "__________________________________________________________________________________________________\n",
            "Encode-7-FeedForward (FeedForwa (None, None, 768)    4722432     Encode-7-FeedForward-Norm[0][0]  \n",
            "__________________________________________________________________________________________________\n",
            "Encode-7-FeedForward-Add (Add)  (None, None, 768)    0           Encode-7-MultiHeadAtt-Add[0][0]  \n",
            "                                                                 Encode-7-FeedForward[0][0]       \n",
            "__________________________________________________________________________________________________\n",
            "Encode-8-MultiHeadAtt-Norm (Lay (None, None, 768)    1536        Encode-7-FeedForward-Add[0][0]   \n",
            "__________________________________________________________________________________________________\n",
            "Encode-8-MultiHeadAtt (MultiHea (None, None, 768)    2362368     Encode-8-MultiHeadAtt-Norm[0][0] \n",
            "__________________________________________________________________________________________________\n",
            "Encode-8-MultiHeadAtt-Add (Add) (None, None, 768)    0           Encode-7-FeedForward-Add[0][0]   \n",
            "                                                                 Encode-8-MultiHeadAtt[0][0]      \n",
            "__________________________________________________________________________________________________\n",
            "Encode-8-FeedForward-Norm (Laye (None, None, 768)    1536        Encode-8-MultiHeadAtt-Add[0][0]  \n",
            "__________________________________________________________________________________________________\n",
            "Encode-8-FeedForward (FeedForwa (None, None, 768)    4722432     Encode-8-FeedForward-Norm[0][0]  \n",
            "__________________________________________________________________________________________________\n",
            "Encode-8-FeedForward-Add (Add)  (None, None, 768)    0           Encode-8-MultiHeadAtt-Add[0][0]  \n",
            "                                                                 Encode-8-FeedForward[0][0]       \n",
            "__________________________________________________________________________________________________\n",
            "Encode-9-MultiHeadAtt-Norm (Lay (None, None, 768)    1536        Encode-8-FeedForward-Add[0][0]   \n",
            "__________________________________________________________________________________________________\n",
            "Encode-9-MultiHeadAtt (MultiHea (None, None, 768)    2362368     Encode-9-MultiHeadAtt-Norm[0][0] \n",
            "__________________________________________________________________________________________________\n",
            "Encode-9-MultiHeadAtt-Add (Add) (None, None, 768)    0           Encode-8-FeedForward-Add[0][0]   \n",
            "                                                                 Encode-9-MultiHeadAtt[0][0]      \n",
            "__________________________________________________________________________________________________\n",
            "Encode-9-FeedForward-Norm (Laye (None, None, 768)    1536        Encode-9-MultiHeadAtt-Add[0][0]  \n",
            "__________________________________________________________________________________________________\n",
            "Encode-9-FeedForward (FeedForwa (None, None, 768)    4722432     Encode-9-FeedForward-Norm[0][0]  \n",
            "__________________________________________________________________________________________________\n",
            "Encode-9-FeedForward-Add (Add)  (None, None, 768)    0           Encode-9-MultiHeadAtt-Add[0][0]  \n",
            "                                                                 Encode-9-FeedForward[0][0]       \n",
            "__________________________________________________________________________________________________\n",
            "Encode-10-MultiHeadAtt-Norm (La (None, None, 768)    1536        Encode-9-FeedForward-Add[0][0]   \n",
            "__________________________________________________________________________________________________\n",
            "Encode-10-MultiHeadAtt (MultiHe (None, None, 768)    2362368     Encode-10-MultiHeadAtt-Norm[0][0]\n",
            "__________________________________________________________________________________________________\n",
            "Encode-10-MultiHeadAtt-Add (Add (None, None, 768)    0           Encode-9-FeedForward-Add[0][0]   \n",
            "                                                                 Encode-10-MultiHeadAtt[0][0]     \n",
            "__________________________________________________________________________________________________\n",
            "Encode-10-FeedForward-Norm (Lay (None, None, 768)    1536        Encode-10-MultiHeadAtt-Add[0][0] \n",
            "__________________________________________________________________________________________________\n",
            "Encode-10-FeedForward (FeedForw (None, None, 768)    4722432     Encode-10-FeedForward-Norm[0][0] \n",
            "__________________________________________________________________________________________________\n",
            "Encode-10-FeedForward-Add (Add) (None, None, 768)    0           Encode-10-MultiHeadAtt-Add[0][0] \n",
            "                                                                 Encode-10-FeedForward[0][0]      \n",
            "__________________________________________________________________________________________________\n",
            "Encode-11-MultiHeadAtt-Norm (La (None, None, 768)    1536        Encode-10-FeedForward-Add[0][0]  \n",
            "__________________________________________________________________________________________________\n",
            "Encode-11-MultiHeadAtt (MultiHe (None, None, 768)    2362368     Encode-11-MultiHeadAtt-Norm[0][0]\n",
            "__________________________________________________________________________________________________\n",
            "Encode-11-MultiHeadAtt-Add (Add (None, None, 768)    0           Encode-10-FeedForward-Add[0][0]  \n",
            "                                                                 Encode-11-MultiHeadAtt[0][0]     \n",
            "__________________________________________________________________________________________________\n",
            "Encode-11-FeedForward-Norm (Lay (None, None, 768)    1536        Encode-11-MultiHeadAtt-Add[0][0] \n",
            "__________________________________________________________________________________________________\n",
            "Encode-11-FeedForward (FeedForw (None, None, 768)    4722432     Encode-11-FeedForward-Norm[0][0] \n",
            "__________________________________________________________________________________________________\n",
            "Encode-11-FeedForward-Add (Add) (None, None, 768)    0           Encode-11-MultiHeadAtt-Add[0][0] \n",
            "                                                                 Encode-11-FeedForward[0][0]      \n",
            "__________________________________________________________________________________________________\n",
            "Norm (LayerNormalization)       (None, None, 768)    1536        Encode-11-FeedForward-Add[0][0]  \n",
            "__________________________________________________________________________________________________\n",
            "global_max_pooling1d_5 (GlobalM (None, 768)          0           Norm[0][0]                       \n",
            "__________________________________________________________________________________________________\n",
            "dense_6 (Dense)                 (None, 1)            769         global_max_pooling1d_5[0][0]     \n",
            "==================================================================================================\n",
            "Total params: 124,440,577\n",
            "Trainable params: 769\n",
            "Non-trainable params: 124,439,808\n",
            "__________________________________________________________________________________________________\n"
          ],
          "name": "stdout"
        },
        {
          "output_type": "stream",
          "text": [
            "C:\\ProgramData\\Anaconda3\\envs\\tensor-env\\lib\\site-packages\\ipykernel_launcher.py:4: UserWarning: Update your `Model` call to the Keras 2 API: `Model(inputs=Tensor(\"In..., outputs=Tensor(\"de...)`\n",
            "  after removing the cwd from sys.path.\n"
          ],
          "name": "stderr"
        }
      ]
    },
    {
      "cell_type": "code",
      "metadata": {
        "ExecuteTime": {
          "end_time": "2020-02-25T00:22:44.991089Z",
          "start_time": "2020-02-25T00:22:44.988082Z"
        },
        "id": "PmlHjpPMFQky",
        "colab_type": "code",
        "colab": {}
      },
      "source": [
        "import tensorflow as tf\n",
        "# tf.config.gpu.set_per_process_memory_fraction(0.75)\n",
        "# tf.config.gpu.set_per_process_memory_growth(True)"
      ],
      "execution_count": null,
      "outputs": []
    },
    {
      "cell_type": "markdown",
      "metadata": {
        "id": "lKnNhWdYFQk-",
        "colab_type": "text"
      },
      "source": [
        "Solve the problem of the GPU memory limit"
      ]
    },
    {
      "cell_type": "code",
      "metadata": {
        "ExecuteTime": {
          "end_time": "2020-02-25T00:23:35.776400Z",
          "start_time": "2020-02-25T00:23:35.769428Z"
        },
        "id": "DaViY3SMFQlB",
        "colab_type": "code",
        "colab": {},
        "outputId": "894f8bb2-d916-4f3f-ddfe-be6a2150010a"
      },
      "source": [
        "gpus = tf.config.experimental.list_physical_devices('GPU')\n",
        "if gpus:\n",
        "    try:\n",
        "        # Restrict TensorFlow to only use the fourth GPU\n",
        "        tf.config.experimental.set_visible_devices(gpus[0], 'GPU')\n",
        "\n",
        "        # Currently, memory growth needs to be the same across GPUs\n",
        "        for gpu in gpus:\n",
        "            tf.config.experimental.set_memory_growth(gpu, True)\n",
        "        logical_gpus = tf.config.experimental.list_logical_devices('GPU')\n",
        "        print(len(gpus), \"Physical GPUs,\", len(logical_gpus), \"Logical GPUs\")\n",
        "    except RuntimeError as e:\n",
        "        # Memory growth must be set before GPUs have been initialized\n",
        "        print(\"error:\", e)"
      ],
      "execution_count": null,
      "outputs": [
        {
          "output_type": "stream",
          "text": [
            "error Physical devices cannot be modified after being initialized\n"
          ],
          "name": "stdout"
        }
      ]
    },
    {
      "cell_type": "code",
      "metadata": {
        "ExecuteTime": {
          "end_time": "2020-02-25T00:25:55.446720Z",
          "start_time": "2020-02-25T00:24:01.869496Z"
        },
        "id": "ciFdsT6xFQlI",
        "colab_type": "code",
        "colab": {},
        "outputId": "3228aadc-aa2b-4fc8-f652-ca325004b993"
      },
      "source": [
        "# test if the model works\n",
        "prediction = model.predict([input_data[:10]], batch_size=12, verbose=1)\n",
        "prediction[:5]"
      ],
      "execution_count": null,
      "outputs": [
        {
          "output_type": "stream",
          "text": [
            "5000/5000 [==============================] - ETA: 2: - ETA: 2: - ETA: 2: - ETA: 2: - ETA: 2: - ETA: 1: - ETA: 1: - ETA: 1: - ETA: 1: - ETA: 1: - ETA: 1: - ETA: 1: - ETA: 1: - ETA: 1: - ETA: 1: - ETA: 1: - ETA: 1: - ETA: 1: - ETA: 1: - ETA: 1: - ETA: 1: - ETA: 1: - ETA: 1: - ETA: 1: - ETA: 1: - ETA: 1: - ETA: 1: - ETA: 1: - ETA: 1: - ETA: 1: - ETA: 1: - ETA: 1: - ETA: 1: - ETA: 1: - ETA: 1: - ETA: 1: - ETA: 1: - ETA: 1: - ETA: 1: - ETA: 1: - ETA: 1: - ETA: 1: - ETA: 1: - ETA: 1: - ETA: 1: - ETA: 1: - ETA: 1: - ETA: 1: - ETA: 1: - ETA: 1: - ETA: 1: - ETA: 1: - ETA: 1: - ETA: 1: - ETA: 1: - ETA: 1: - ETA: 1: - ETA: 1: - ETA: 1: - ETA: 1: - ETA: 1: - ETA: 1: - ETA: 1: - ETA: 1: - ETA: 1: - ETA: 1: - ETA: 1: - ETA: 1: - ETA: 1: - ETA: 1: - ETA: 1: - ETA: 1: - ETA: 1: - ETA: 1: - ETA: 1: - ETA: 1: - ETA: 1: - ETA: 1: - ETA: 1: - ETA: 1: - ETA: 1: - ETA: 1: - ETA: 1: - ETA: 1: - ETA: 1: - ETA: 1: - ETA: 1: - ETA: 1: - ETA: 1: - ETA: 1: - ETA: 1: - ETA: 1: - ETA: 1: - ETA: 1: - ETA: 1: - ETA: 1: - ETA: 1: - ETA: 1: - ETA: 1: - ETA: 1: - ETA: 1: - ETA: 1: - ETA: 1: - ETA: 1: - ETA: 1: - ETA: 1: - ETA: 1: - ETA: 1: - ETA: 1: - ETA: 1: - ETA: 1: - ETA: 1: - ETA: 1: - ETA: 1: - ETA: 1: - ETA: 1: - ETA: 1: - ETA: 1: - ETA: 1: - ETA: 1: - ETA: 1: - ETA: 1: - ETA: 1: - ETA: 1: - ETA: 1: - ETA: 1: - ETA: 1: - ETA: 1: - ETA: 1: - ETA: 1: - ETA: 1: - ETA: 1: - ETA: 1: - ETA: 1: - ETA: 1: - ETA: 1: - ETA: 1: - ETA: 1: - ETA: 1: - ETA: 1: - ETA: 1: - ETA: 1: - ETA: 1: - ETA: 1: - ETA: 1: - ETA: 1: - ETA: 1: - ETA: 1: - ETA: 1: - ETA: 1: - ETA: 1: - ETA: 1: - ETA: 1: - ETA: 1: - ETA: 1: - ETA: 1: - ETA: 1: - ETA: 1: - ETA: 1: - ETA: 1: - ETA: 1: - ETA: 1: - ETA: 1: - ETA: 1: - ETA: 1: - ETA: 1: - ETA: 1: - ETA: 1: - ETA: 1: - ETA: 1: - ETA: 1: - ETA: 1: - ETA: 1: - ETA: 1: - ETA: 1: - ETA: 1: - ETA: 1: - ETA: 1: - ETA: 1: - ETA: 1: - ETA: 1: - ETA: 1: - ETA: 1: - ETA: 1: - ETA: 1: - ETA: 1: - ETA: 1: - ETA: 1: - ETA: 1: - ETA: 1: - ETA: 1: - ETA: 1: - ETA: 1: - ETA: 1: - ETA: 1: - ETA: 1: - ETA: 59s - ETA: 59 - ETA: 59 - ETA: 58 - ETA: 58 - ETA: 58 - ETA: 58 - ETA: 57 - ETA: 57 - ETA: 57 - ETA: 57 - ETA: 56 - ETA: 56 - ETA: 56 - ETA: 55 - ETA: 55 - ETA: 55 - ETA: 55 - ETA: 54 - ETA: 54 - ETA: 54 - ETA: 54 - ETA: 53 - ETA: 53 - ETA: 53 - ETA: 52 - ETA: 52 - ETA: 52 - ETA: 52 - ETA: 51 - ETA: 51 - ETA: 51 - ETA: 51 - ETA: 50 - ETA: 50 - ETA: 50 - ETA: 49 - ETA: 49 - ETA: 49 - ETA: 49 - ETA: 48 - ETA: 48 - ETA: 48 - ETA: 48 - ETA: 47 - ETA: 47 - ETA: 47 - ETA: 46 - ETA: 46 - ETA: 46 - ETA: 46 - ETA: 45 - ETA: 45 - ETA: 45 - ETA: 45 - ETA: 44 - ETA: 44 - ETA: 44 - ETA: 43 - ETA: 43 - ETA: 43 - ETA: 43 - ETA: 42 - ETA: 42 - ETA: 42 - ETA: 42 - ETA: 41 - ETA: 41 - ETA: 41 - ETA: 40 - ETA: 40 - ETA: 40 - ETA: 40 - ETA: 39 - ETA: 39 - ETA: 39 - ETA: 39 - ETA: 38 - ETA: 38 - ETA: 38 - ETA: 38 - ETA: 37 - ETA: 37 - ETA: 37 - ETA: 36 - ETA: 36 - ETA: 36 - ETA: 36 - ETA: 35 - ETA: 35 - ETA: 35 - ETA: 35 - ETA: 34 - ETA: 34 - ETA: 34 - ETA: 33 - ETA: 33 - ETA: 33 - ETA: 33 - ETA: 32 - ETA: 32 - ETA: 32 - ETA: 32 - ETA: 31 - ETA: 31 - ETA: 31 - ETA: 30 - ETA: 30 - ETA: 30 - ETA: 30 - ETA: 29 - ETA: 29 - ETA: 29 - ETA: 29 - ETA: 28 - ETA: 28 - ETA: 28 - ETA: 27 - ETA: 27 - ETA: 27 - ETA: 27 - ETA: 26 - ETA: 26 - ETA: 26 - ETA: 26 - ETA: 25 - ETA: 25 - ETA: 25 - ETA: 24 - ETA: 24 - ETA: 24 - ETA: 24 - ETA: 23 - ETA: 23 - ETA: 23 - ETA: 23 - ETA: 22 - ETA: 22 - ETA: 22 - ETA: 21 - ETA: 21 - ETA: 21 - ETA: 21 - ETA: 20 - ETA: 20 - ETA: 20 - ETA: 20 - ETA: 19 - ETA: 19 - ETA: 19 - ETA: 18 - ETA: 18 - ETA: 18 - ETA: 18 - ETA: 17 - ETA: 17 - ETA: 17 - ETA: 17 - ETA: 16 - ETA: 16 - ETA: 16 - ETA: 15 - ETA: 15 - ETA: 15 - ETA: 15 - ETA: 14 - ETA: 14 - ETA: 14 - ETA: 14 - ETA: 13 - ETA: 13 - ETA: 13 - ETA: 12 - ETA: 12 - ETA: 12 - ETA: 12 - ETA: 11 - ETA: 11 - ETA: 11 - ETA: 11 - ETA: 10 - ETA: 10 - ETA: 10 - ETA: 9 - ETA:  - ETA:  - ETA:  - ETA:  - ETA:  - ETA:  - ETA:  - ETA:  - ETA:  - ETA:  - ETA:  - ETA:  - ETA:  - ETA:  - ETA:  - ETA:  - ETA:  - ETA:  - ETA:  - ETA:  - ETA:  - ETA:  - ETA:  - ETA:  - ETA:  - ETA:  - ETA:  - ETA:  - ETA:  - ETA:  - ETA:  - ETA:  - ETA:  - ETA:  - ETA:  - ETA:  - 114s 23ms/step\n"
          ],
          "name": "stdout"
        },
        {
          "output_type": "execute_result",
          "data": {
            "text/plain": [
              "array([[2.3222626e-06],\n",
              "       [4.3641367e-06],\n",
              "       [5.6475824e-07],\n",
              "       [2.8034700e-07],\n",
              "       [1.4636578e-07]], dtype=float32)"
            ]
          },
          "metadata": {
            "tags": []
          },
          "execution_count": 41
        }
      ]
    },
    {
      "cell_type": "markdown",
      "metadata": {
        "id": "zrWiNHNgFQlO",
        "colab_type": "text"
      },
      "source": [
        "## train"
      ]
    },
    {
      "cell_type": "code",
      "metadata": {
        "ExecuteTime": {
          "end_time": "2020-02-25T00:33:27.670947Z",
          "start_time": "2020-02-25T00:26:59.415988Z"
        },
        "id": "8ohvqSjiFQlV",
        "colab_type": "code",
        "colab": {},
        "outputId": "565e4539-cfe8-479d-a1da-65880d616492"
      },
      "source": [
        "history = model.fit([X_train],[y_train],\n",
        "                    verbose=2,\n",
        "                    epochs=5,\n",
        "                    batch_size=12, # must use a low batch size. batch_size=1024 will not work on a GTX 1060 \n",
        "                    validation_split = 0.2,\n",
        "                    # callbacks=[early_stop, reduce_lr_onPlateau, tensorboard_callback, ManualEarlyStopping()])\n",
        "                   )"
      ],
      "execution_count": null,
      "outputs": [
        {
          "output_type": "stream",
          "text": [
            "Train on 2680 samples, validate on 670 samples\n",
            "Epoch 1/5\n",
            " - 78s - loss: 0.8879 - accuracy: 0.5269 - val_loss: 1.0887 - val_accuracy: 0.4910\n",
            "Epoch 2/5\n",
            " - 77s - loss: 0.7603 - accuracy: 0.5396 - val_loss: 1.0138 - val_accuracy: 0.5060\n",
            "Epoch 3/5\n",
            " - 77s - loss: 0.7399 - accuracy: 0.5578 - val_loss: 0.8373 - val_accuracy: 0.5090\n",
            "Epoch 4/5\n",
            " - 77s - loss: 0.7188 - accuracy: 0.5728 - val_loss: 0.7788 - val_accuracy: 0.5164\n",
            "Epoch 5/5\n",
            " - 77s - loss: 0.7010 - accuracy: 0.5690 - val_loss: 0.6697 - val_accuracy: 0.5940\n"
          ],
          "name": "stdout"
        }
      ]
    },
    {
      "cell_type": "markdown",
      "metadata": {
        "id": "VvNHbTY2FQls",
        "colab_type": "text"
      },
      "source": [
        "## Results"
      ]
    },
    {
      "cell_type": "code",
      "metadata": {
        "ExecuteTime": {
          "end_time": "2020-02-25T10:04:17.743665Z",
          "start_time": "2020-02-25T10:04:17.190257Z"
        },
        "id": "mQLDvdswFQlu",
        "colab_type": "code",
        "colab": {},
        "outputId": "2ba6931c-848f-40a1-ef92-97e8b6e0fa04"
      },
      "source": [
        "plot_history(history, \"Model3: pretrained GPT-2\",metrics=[\"loss\",\"accuracy\"])"
      ],
      "execution_count": null,
      "outputs": [
        {
          "output_type": "stream",
          "text": [
            "history.tail:\n",
            "   val_loss  val_accuracy      loss  accuracy  epoch\n",
            "0  1.088707      0.491045  0.887915  0.526866      0\n",
            "1  1.013805      0.505970  0.760267  0.539552      1\n",
            "2  0.837253      0.508955  0.739947  0.557836      2\n",
            "3  0.778797      0.516418  0.718759  0.572761      3\n",
            "4  0.669657      0.594030  0.701006  0.569030      4\n"
          ],
          "name": "stdout"
        },
        {
          "output_type": "display_data",
          "data": {
            "image/png": "[encoded data removed]",
            "text/plain": [
              "<Figure size 921.6x288 with 2 Axes>"
            ]
          },
          "metadata": {
            "tags": [],
            "needs_background": "light"
          }
        },
        {
          "output_type": "display_data",
          "data": {
            "image/png": "[encoded data removed]",
            "text/plain": [
              "<Figure size 921.6x288 with 2 Axes>"
            ]
          },
          "metadata": {
            "tags": [],
            "needs_background": "light"
          }
        }
      ]
    },
    {
      "cell_type": "markdown",
      "metadata": {
        "id": "x_XaAE03FQl7",
        "colab_type": "text"
      },
      "source": [
        "**Conclusion:**\n",
        "For almost the same training time ( 5 min, 5 epoch) simple models have a higher accuracy.\n",
        "Since the chosen problem is very simple, we do not need a pre-trained model.\n",
        "Nevertheless, we expect that with a longer training period, the modified GPT-2 model will achieve higher accuracy"
      ]
    }
  ]
}
